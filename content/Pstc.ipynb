{
  "metadata": {
    "widgets": {
      "application/vnd.jupyter.widget-state+json": {
        "version_major": 2,
        "version_minor": 0,
        "state": {
          "dbc53e9f235e4e7987476d431107c261": {
            "model_name": "LayoutModel",
            "model_module": "@jupyter-widgets/base",
            "model_module_version": "2.0.0",
            "state": {
              "margin": "0px 0px 10px 0px",
              "width": "250px"
            }
          },
          "34a77ff26a8346e28cbabb821ea2308c": {
            "model_name": "HTMLStyleModel",
            "model_module": "@jupyter-widgets/controls",
            "model_module_version": "2.0.0",
            "state": {
              "description_width": ""
            }
          },
          "9fcc825c79cf458dacaf6c6d8732e909": {
            "model_name": "HTMLModel",
            "model_module": "@jupyter-widgets/controls",
            "model_module_version": "2.0.0",
            "state": {
              "value": "<center><font face=\"Times New Roman\"><font size=\"5\">                 Parametros de calculo                 </font></font></center>",
              "layout": "IPY_MODEL_dbc53e9f235e4e7987476d431107c261",
              "style": "IPY_MODEL_34a77ff26a8346e28cbabb821ea2308c"
            }
          },
          "4be2032c44e44b51b308c88e5769e4fd": {
            "model_name": "LayoutModel",
            "model_module": "@jupyter-widgets/base",
            "model_module_version": "2.0.0",
            "state": {
              "margin": "0px 0px 10px 0px",
              "width": "225px"
            }
          },
          "2cd6508353ef471d867245f98b9820e8": {
            "model_name": "DescriptionStyleModel",
            "model_module": "@jupyter-widgets/controls",
            "model_module_version": "2.0.0",
            "state": {
              "description_width": ""
            }
          },
          "0c1732efaeed40c99a20376d4352945c": {
            "model_name": "DropdownModel",
            "model_module": "@jupyter-widgets/controls",
            "model_module_version": "2.0.0",
            "state": {
              "description": "Apoyo 1",
              "index": 1,
              "_options_labels": [
                "Elastico",
                "Fijo"
              ],
              "layout": "IPY_MODEL_4be2032c44e44b51b308c88e5769e4fd",
              "style": "IPY_MODEL_2cd6508353ef471d867245f98b9820e8"
            }
          },
          "e052d242a4aa4a9a9e8d4c9ce0e60a8a": {
            "model_name": "LayoutModel",
            "model_module": "@jupyter-widgets/base",
            "model_module_version": "2.0.0",
            "state": {
              "margin": "0px 0px 10px 0px",
              "width": "225px"
            }
          },
          "201a39e4e7d04b26a54ad8db27676833": {
            "model_name": "DescriptionStyleModel",
            "model_module": "@jupyter-widgets/controls",
            "model_module_version": "2.0.0",
            "state": {
              "description_width": ""
            }
          },
          "b6d81b6c86e6416da6d861cb38fb89e1": {
            "model_name": "DropdownModel",
            "model_module": "@jupyter-widgets/controls",
            "model_module_version": "2.0.0",
            "state": {
              "description": "Apoyo 2",
              "index": 0,
              "_options_labels": [
                "Elastico",
                "Fijo"
              ],
              "layout": "IPY_MODEL_e052d242a4aa4a9a9e8d4c9ce0e60a8a",
              "style": "IPY_MODEL_201a39e4e7d04b26a54ad8db27676833"
            }
          },
          "77a9149fb9ca4642a7d32913056fa2b6": {
            "model_name": "LayoutModel",
            "model_module": "@jupyter-widgets/base",
            "model_module_version": "2.0.0",
            "state": {
              "height": "auto",
              "margin": "0px 30px 0px 0px",
              "width": "30%"
            }
          },
          "3bc145a6969b4be6aacc360549f27fd5": {
            "model_name": "DescriptionStyleModel",
            "model_module": "@jupyter-widgets/controls",
            "model_module_version": "2.0.0",
            "state": {
              "description_width": ""
            }
          },
          "147fe3af420c45c9b6b7379d107f6d5b": {
            "model_name": "DropdownModel",
            "model_module": "@jupyter-widgets/controls",
            "model_module_version": "2.0.0",
            "state": {
              "description": "Grafica de: ",
              "index": 0,
              "_options_labels": [
                "Cortantes",
                "Momentos",
                "Pendientes",
                "Deflexiones"
              ],
              "layout": "IPY_MODEL_77a9149fb9ca4642a7d32913056fa2b6",
              "style": "IPY_MODEL_3bc145a6969b4be6aacc360549f27fd5"
            }
          },
          "91acaee6ca9f4a29aaba176fb48d48c9": {
            "model_name": "LayoutModel",
            "model_module": "@jupyter-widgets/base",
            "model_module_version": "2.0.0",
            "state": {
              "margin": "0px 0px 10px 0px",
              "width": "225px"
            }
          },
          "5150151431fa42529012496fbef4d6cf": {
            "model_name": "DescriptionStyleModel",
            "model_module": "@jupyter-widgets/controls",
            "model_module_version": "2.0.0",
            "state": {
              "description_width": ""
            }
          },
          "9350a7e2717542a1b6ea74b6da20e9eb": {
            "model_name": "BoundedFloatTextModel",
            "model_module": "@jupyter-widgets/controls",
            "model_module_version": "2.0.0",
            "state": {
              "description": "D (kg/m3)",
              "value": 7850,
              "max": 10000,
              "min": 10,
              "step": 10,
              "layout": "IPY_MODEL_91acaee6ca9f4a29aaba176fb48d48c9",
              "style": "IPY_MODEL_5150151431fa42529012496fbef4d6cf"
            }
          },
          "1625dc547aed4c28b655c60d9898e84f": {
            "model_name": "LayoutModel",
            "model_module": "@jupyter-widgets/base",
            "model_module_version": "2.0.0",
            "state": {
              "margin": "0px 0px 10px 0px",
              "width": "225px"
            }
          },
          "fcc65677c2ef4cf3982d49c9453f8e98": {
            "model_name": "DescriptionStyleModel",
            "model_module": "@jupyter-widgets/controls",
            "model_module_version": "2.0.0",
            "state": {
              "description_width": ""
            }
          },
          "426a0cea75b441a590d02245bda32f08": {
            "model_name": "BoundedFloatTextModel",
            "model_module": "@jupyter-widgets/controls",
            "model_module_version": "2.0.0",
            "state": {
              "description": "Ø ext. (mm)",
              "value": 50,
              "max": 10000,
              "min": 10,
              "step": 0.005,
              "layout": "IPY_MODEL_1625dc547aed4c28b655c60d9898e84f",
              "style": "IPY_MODEL_fcc65677c2ef4cf3982d49c9453f8e98"
            }
          },
          "e986fd3df05c41e6b1974da1cf427c0b": {
            "model_name": "LayoutModel",
            "model_module": "@jupyter-widgets/base",
            "model_module_version": "2.0.0",
            "state": {
              "margin": "0px 0px 10px 0px",
              "width": "225px"
            }
          },
          "d59debca9fdd4835976d1e8cc00ac5d0": {
            "model_name": "DescriptionStyleModel",
            "model_module": "@jupyter-widgets/controls",
            "model_module_version": "2.0.0",
            "state": {
              "description_width": ""
            }
          },
          "113b21db34aa4afaab9fbc67477d7655": {
            "model_name": "BoundedFloatTextModel",
            "model_module": "@jupyter-widgets/controls",
            "model_module_version": "2.0.0",
            "state": {
              "description": "Ø int. (mm)",
              "max": 10000,
              "step": 0.005,
              "layout": "IPY_MODEL_e986fd3df05c41e6b1974da1cf427c0b",
              "style": "IPY_MODEL_d59debca9fdd4835976d1e8cc00ac5d0"
            }
          },
          "43bf8e635d274b38afdd1a472917c94e": {
            "model_name": "LayoutModel",
            "model_module": "@jupyter-widgets/base",
            "model_module_version": "2.0.0",
            "state": {
              "margin": "0px 0px 10px 0px",
              "width": "225px"
            }
          },
          "251011c7a19942b3ab64fc71df26dec0": {
            "model_name": "DescriptionStyleModel",
            "model_module": "@jupyter-widgets/controls",
            "model_module_version": "2.0.0",
            "state": {
              "description_width": ""
            }
          },
          "1de0f0ea0fc648c09a48d8b88c9a0049": {
            "model_name": "BoundedFloatTextModel",
            "model_module": "@jupyter-widgets/controls",
            "model_module_version": "2.0.0",
            "state": {
              "description": "L (mm)",
              "value": 400,
              "max": 10000,
              "min": 10,
              "step": 0.05,
              "layout": "IPY_MODEL_43bf8e635d274b38afdd1a472917c94e",
              "style": "IPY_MODEL_251011c7a19942b3ab64fc71df26dec0"
            }
          },
          "ab49b5ab29d240579334eb7f8e73f5fb": {
            "model_name": "LayoutModel",
            "model_module": "@jupyter-widgets/base",
            "model_module_version": "2.0.0",
            "state": {
              "margin": "0px 0px 10px 0px",
              "width": "225px"
            }
          },
          "a4a6054f6132491ba9f50aedb1085f09": {
            "model_name": "DescriptionStyleModel",
            "model_module": "@jupyter-widgets/controls",
            "model_module_version": "2.0.0",
            "state": {
              "description_width": ""
            }
          },
          "d8b57e74fce44892a77a6351e2f8ef7f": {
            "model_name": "BoundedIntTextModel",
            "model_module": "@jupyter-widgets/controls",
            "model_module_version": "2.0.0",
            "state": {
              "description": "Elementos",
              "max": 1000,
              "layout": "IPY_MODEL_ab49b5ab29d240579334eb7f8e73f5fb",
              "style": "IPY_MODEL_a4a6054f6132491ba9f50aedb1085f09"
            }
          },
          "92a679ead738413380e3026593e98fc4": {
            "model_name": "LayoutModel",
            "model_module": "@jupyter-widgets/base",
            "model_module_version": "2.0.0",
            "state": {
              "margin": "0px 0px 10px 0px",
              "width": "225px"
            }
          },
          "69cc2d37702e4b32979941f0d80663da": {
            "model_name": "DescriptionStyleModel",
            "model_module": "@jupyter-widgets/controls",
            "model_module_version": "2.0.0",
            "state": {
              "description_width": ""
            }
          },
          "b9f081ab9a544c13bd76512ce30862ad": {
            "model_name": "FloatTextModel",
            "model_module": "@jupyter-widgets/controls",
            "model_module_version": "2.0.0",
            "state": {
              "description": "F (KN)",
              "value": -1,
              "layout": "IPY_MODEL_92a679ead738413380e3026593e98fc4",
              "style": "IPY_MODEL_69cc2d37702e4b32979941f0d80663da"
            }
          },
          "001c77aeb3254acc8ec7533d42fe7f07": {
            "model_name": "LayoutModel",
            "model_module": "@jupyter-widgets/base",
            "model_module_version": "2.0.0",
            "state": {
              "margin": "0px 0px 10px 0px",
              "width": "225px"
            }
          },
          "ebbe3dfffa35487586cfdbd9dc0927eb": {
            "model_name": "DescriptionStyleModel",
            "model_module": "@jupyter-widgets/controls",
            "model_module_version": "2.0.0",
            "state": {
              "description_width": ""
            }
          },
          "965935083d2a472ea3bacf30439285cf": {
            "model_name": "FloatTextModel",
            "model_module": "@jupyter-widgets/controls",
            "model_module_version": "2.0.0",
            "state": {
              "description": "M (KN.m)",
              "layout": "IPY_MODEL_001c77aeb3254acc8ec7533d42fe7f07",
              "style": "IPY_MODEL_ebbe3dfffa35487586cfdbd9dc0927eb"
            }
          },
          "4bbad58b29bd4967b0bb76a663609bf4": {
            "model_name": "LayoutModel",
            "model_module": "@jupyter-widgets/base",
            "model_module_version": "2.0.0",
            "state": {
              "margin": "0px 0px 10px 0px"
            }
          },
          "9ed10ad1f2a249a081eabdc6582586fd": {
            "model_name": "SliderStyleModel",
            "model_module": "@jupyter-widgets/controls",
            "model_module_version": "2.0.0",
            "state": {
              "description_width": ""
            }
          },
          "a3692b4cf51a4cba9f3956135dffaf6d": {
            "model_name": "FloatSliderModel",
            "model_module": "@jupyter-widgets/controls",
            "model_module_version": "2.0.0",
            "state": {
              "description": "X",
              "value": 119.4,
              "max": 400,
              "step": 0.1,
              "behavior": "drag-tap",
              "layout": "IPY_MODEL_4bbad58b29bd4967b0bb76a663609bf4",
              "style": "IPY_MODEL_9ed10ad1f2a249a081eabdc6582586fd"
            }
          },
          "71867eceeb6d46538f2b5187ce5ce95d": {
            "model_name": "LayoutModel",
            "model_module": "@jupyter-widgets/base",
            "model_module_version": "2.0.0",
            "state": {
              "margin": "0px 0px 10px 0px",
              "width": "225px"
            }
          },
          "3c25071444504d73b74a9e8cfb0fee61": {
            "model_name": "CheckboxStyleModel",
            "model_module": "@jupyter-widgets/controls",
            "model_module_version": "2.0.0",
            "state": {
              "description_width": ""
            }
          },
          "3cd1d072acda4f48aee7e407dfc56b8e": {
            "model_name": "CheckboxModel",
            "model_module": "@jupyter-widgets/controls",
            "model_module_version": "2.0.0",
            "state": {
              "description": "Peso propio del eje",
              "style": "IPY_MODEL_3c25071444504d73b74a9e8cfb0fee61",
              "disabled": false,
              "layout": "IPY_MODEL_71867eceeb6d46538f2b5187ce5ce95d",
              "value": false
            }
          },
          "b7f3a611421d4a5aaef221af22228819": {
            "model_name": "LayoutModel",
            "model_module": "@jupyter-widgets/base",
            "model_module_version": "2.0.0",
            "state": {
              "height": "auto",
              "margin": "0px 10px 0px 0px",
              "width": "20%"
            }
          },
          "3ee1c22cef77492188f28b8c3b9dbc96": {
            "model_name": "ButtonStyleModel",
            "model_module": "@jupyter-widgets/controls",
            "model_module_version": "2.0.0",
            "state": {
              "button_color": "black"
            }
          },
          "96f12660de43426c8f676090ab14196a": {
            "model_name": "ButtonModel",
            "model_module": "@jupyter-widgets/controls",
            "model_module_version": "2.0.0",
            "state": {
              "description": "Calcular",
              "icon": "gear",
              "button_style": "success",
              "style": "IPY_MODEL_3ee1c22cef77492188f28b8c3b9dbc96",
              "layout": "IPY_MODEL_b7f3a611421d4a5aaef221af22228819"
            }
          },
          "31aa683e0c984f79b3e24fb237fe7ade": {
            "model_name": "LayoutModel",
            "model_module": "@jupyter-widgets/base",
            "model_module_version": "2.0.0",
            "state": {
              "height": "auto",
              "margin": "0px 10px 0px 0px",
              "width": "20%"
            }
          },
          "b981e2f31e874ef88dcabd883af157b0": {
            "model_name": "ButtonStyleModel",
            "model_module": "@jupyter-widgets/controls",
            "model_module_version": "2.0.0",
            "state": {
              "button_color": "black"
            }
          },
          "60909c8064074ccf8f79e4dc52704dda": {
            "model_name": "ButtonModel",
            "model_module": "@jupyter-widgets/controls",
            "model_module_version": "2.0.0",
            "state": {
              "description": "Graficar",
              "icon": "pencil",
              "button_style": "success",
              "style": "IPY_MODEL_b981e2f31e874ef88dcabd883af157b0",
              "layout": "IPY_MODEL_31aa683e0c984f79b3e24fb237fe7ade"
            }
          },
          "59a9de2cf75c49b39168882c29a9680f": {
            "model_name": "LayoutModel",
            "model_module": "@jupyter-widgets/base",
            "model_module_version": "2.0.0",
            "state": {
              "height": "auto",
              "margin": "0px 0px 0px 0px",
              "width": "20%"
            }
          },
          "6c1d53e24bb246199c26f6d348758081": {
            "model_name": "ButtonStyleModel",
            "model_module": "@jupyter-widgets/controls",
            "model_module_version": "2.0.0",
            "state": {
              "button_color": "black"
            }
          },
          "c567222ff24344b1b6cb0dee24f7aa2e": {
            "model_name": "ButtonModel",
            "model_module": "@jupyter-widgets/controls",
            "model_module_version": "2.0.0",
            "state": {
              "description": "Enumerar",
              "icon": "eye",
              "button_style": "success",
              "style": "IPY_MODEL_6c1d53e24bb246199c26f6d348758081",
              "layout": "IPY_MODEL_59a9de2cf75c49b39168882c29a9680f"
            }
          },
          "334831eeee854400b2866a9b75b83898": {
            "model_name": "LayoutModel",
            "model_module": "@jupyter-widgets/base",
            "model_module_version": "2.0.0",
            "state": {
              "border_top": "0px",
              "border_right": "0px",
              "border_bottom": "0px",
              "border_left": "0px",
              "height": "120px",
              "margin": "0px 0px 0px 0px",
              "padding": "0px",
              "width": "100%",
              "grid_template_rows": "repeat(4, 1fr)",
              "grid_template_columns": "repeat(3, 1fr)",
              "grid_template_areas": "\"widget001 widget002 widget003\"\n\"widget004 widget005 widget006\"\n\"widget007 widget008 widget009\"\n\"widget010 widget011 widget012\""
            }
          },
          "e1fa2d8a6b97474896799464c30ccd93": {
            "model_name": "GridBoxModel",
            "model_module": "@jupyter-widgets/controls",
            "model_module_version": "2.0.0",
            "state": {
              "children": [
                "IPY_MODEL_57f169b9574c4feda6dfe4b3757d4a02",
                "IPY_MODEL_e88adfc14cd84fb99e7b1e9e31b18a1a",
                "IPY_MODEL_95a6c75270a94c85a658eef7af085b27",
                "IPY_MODEL_48a3c68c2f0b42a19ba36d3a37e5ef32",
                "IPY_MODEL_b7a95f4bdc774ed5b9455d1421e8c5ce",
                "IPY_MODEL_fa111a2ce02144f5a6322fad0dfde205",
                "IPY_MODEL_2425e31a81754508b4f56fa7f78e73bc",
                "IPY_MODEL_09bcdb18c1c04fdead835bedc73f363b",
                "IPY_MODEL_563c49692b8f4301b8c4cd06eab28496",
                "IPY_MODEL_58178ee39be743d3a1bb93ff9db8a311",
                "IPY_MODEL_866d4421971c4996881bacbaf0e9e55e",
                "IPY_MODEL_ad8047542f9e416493e8db3118a0ca27"
              ],
              "layout": "IPY_MODEL_334831eeee854400b2866a9b75b83898"
            }
          },
          "acb357452baf43868e64dc50f40bea02": {
            "model_name": "LayoutModel",
            "model_module": "@jupyter-widgets/base",
            "model_module_version": "2.0.0",
            "state": {
              "height": "5px",
              "width": "265px",
              "grid_area": "widget001"
            }
          },
          "e0d3bf7821b64c079e3fcbc77a29dc49": {
            "model_name": "TextStyleModel",
            "model_module": "@jupyter-widgets/controls",
            "model_module_version": "2.0.0",
            "state": {
              "description_width": ""
            }
          },
          "57f169b9574c4feda6dfe4b3757d4a02": {
            "model_name": "TextModel",
            "model_module": "@jupyter-widgets/controls",
            "model_module_version": "2.0.0",
            "state": {
              "disabled": true,
              "layout": "IPY_MODEL_acb357452baf43868e64dc50f40bea02",
              "style": "IPY_MODEL_e0d3bf7821b64c079e3fcbc77a29dc49"
            }
          },
          "5b143679a1344b8eb8db6049731fca7c": {
            "model_name": "LayoutModel",
            "model_module": "@jupyter-widgets/base",
            "model_module_version": "2.0.0",
            "state": {
              "height": "5px",
              "width": "265px",
              "grid_area": "widget002"
            }
          },
          "e9477ae194d34b778df1d10160e84a0b": {
            "model_name": "TextStyleModel",
            "model_module": "@jupyter-widgets/controls",
            "model_module_version": "2.0.0",
            "state": {
              "description_width": ""
            }
          },
          "e88adfc14cd84fb99e7b1e9e31b18a1a": {
            "model_name": "TextModel",
            "model_module": "@jupyter-widgets/controls",
            "model_module_version": "2.0.0",
            "state": {
              "value": "Deflexiones (mm)",
              "disabled": true,
              "layout": "IPY_MODEL_5b143679a1344b8eb8db6049731fca7c",
              "style": "IPY_MODEL_e9477ae194d34b778df1d10160e84a0b"
            }
          },
          "b222e1b5e652478d8813e77690b9ace4": {
            "model_name": "LayoutModel",
            "model_module": "@jupyter-widgets/base",
            "model_module_version": "2.0.0",
            "state": {
              "height": "5px",
              "width": "265px",
              "grid_area": "widget003"
            }
          },
          "25ed92eb46bd45bbbf84ccf1446446bc": {
            "model_name": "TextStyleModel",
            "model_module": "@jupyter-widgets/controls",
            "model_module_version": "2.0.0",
            "state": {
              "description_width": ""
            }
          },
          "95a6c75270a94c85a658eef7af085b27": {
            "model_name": "TextModel",
            "model_module": "@jupyter-widgets/controls",
            "model_module_version": "2.0.0",
            "state": {
              "value": "Velocidad Crítica (rpm)",
              "disabled": true,
              "layout": "IPY_MODEL_b222e1b5e652478d8813e77690b9ace4",
              "style": "IPY_MODEL_25ed92eb46bd45bbbf84ccf1446446bc"
            }
          },
          "42aa310d59c14da9b6fd8a7d9b7be962": {
            "model_name": "LayoutModel",
            "model_module": "@jupyter-widgets/base",
            "model_module_version": "2.0.0",
            "state": {
              "height": "5px",
              "width": "265px",
              "grid_area": "widget004"
            }
          },
          "3664b46353b1404a833e0ab5957f3f28": {
            "model_name": "TextStyleModel",
            "model_module": "@jupyter-widgets/controls",
            "model_module_version": "2.0.0",
            "state": {
              "description_width": ""
            }
          },
          "48a3c68c2f0b42a19ba36d3a37e5ef32": {
            "model_name": "TextModel",
            "model_module": "@jupyter-widgets/controls",
            "model_module_version": "2.0.0",
            "state": {
              "value": "Bernoulli",
              "disabled": true,
              "layout": "IPY_MODEL_42aa310d59c14da9b6fd8a7d9b7be962",
              "style": "IPY_MODEL_3664b46353b1404a833e0ab5957f3f28"
            }
          },
          "d2d5c9a5c0064ea79177c6bdde7c85c6": {
            "model_name": "LayoutModel",
            "model_module": "@jupyter-widgets/base",
            "model_module_version": "2.0.0",
            "state": {
              "height": "5px",
              "width": "265px",
              "grid_area": "widget005"
            }
          },
          "27245cfbcac44132a29f2bceb40efed9": {
            "model_name": "TextStyleModel",
            "model_module": "@jupyter-widgets/controls",
            "model_module_version": "2.0.0",
            "state": {
              "description_width": ""
            }
          },
          "b7a95f4bdc774ed5b9455d1421e8c5ce": {
            "model_name": "TextModel",
            "model_module": "@jupyter-widgets/controls",
            "model_module_version": "2.0.0",
            "state": {
              "value": "5.24878137604196e-06",
              "disabled": true,
              "layout": "IPY_MODEL_d2d5c9a5c0064ea79177c6bdde7c85c6",
              "style": "IPY_MODEL_27245cfbcac44132a29f2bceb40efed9"
            }
          },
          "320351257d1d48479d34d2bb879d2bae": {
            "model_name": "LayoutModel",
            "model_module": "@jupyter-widgets/base",
            "model_module_version": "2.0.0",
            "state": {
              "height": "5px",
              "width": "265px",
              "grid_area": "widget006"
            }
          },
          "9393f9f7cafe4654944867e9877be0af": {
            "model_name": "TextStyleModel",
            "model_module": "@jupyter-widgets/controls",
            "model_module_version": "2.0.0",
            "state": {
              "description_width": ""
            }
          },
          "fa111a2ce02144f5a6322fad0dfde205": {
            "model_name": "TextModel",
            "model_module": "@jupyter-widgets/controls",
            "model_module_version": "2.0.0",
            "state": {
              "value": "15146.9080366643",
              "disabled": true,
              "layout": "IPY_MODEL_320351257d1d48479d34d2bb879d2bae",
              "style": "IPY_MODEL_9393f9f7cafe4654944867e9877be0af"
            }
          },
          "d986a02056424170b244cec4843b03bf": {
            "model_name": "LayoutModel",
            "model_module": "@jupyter-widgets/base",
            "model_module_version": "2.0.0",
            "state": {
              "height": "5px",
              "width": "265px",
              "grid_area": "widget007"
            }
          },
          "13e21ff7e4c3454fa08f9710f9a0282e": {
            "model_name": "TextStyleModel",
            "model_module": "@jupyter-widgets/controls",
            "model_module_version": "2.0.0",
            "state": {
              "description_width": ""
            }
          },
          "2425e31a81754508b4f56fa7f78e73bc": {
            "model_name": "TextModel",
            "model_module": "@jupyter-widgets/controls",
            "model_module_version": "2.0.0",
            "state": {
              "value": "Timoshenko",
              "disabled": true,
              "layout": "IPY_MODEL_d986a02056424170b244cec4843b03bf",
              "style": "IPY_MODEL_13e21ff7e4c3454fa08f9710f9a0282e"
            }
          },
          "2143bb5da29e4b419ff3444e3e456eb3": {
            "model_name": "LayoutModel",
            "model_module": "@jupyter-widgets/base",
            "model_module_version": "2.0.0",
            "state": {
              "height": "5px",
              "width": "265px",
              "grid_area": "widget008"
            }
          },
          "d109e9ced5a34adc956c5921bca71cf6": {
            "model_name": "TextStyleModel",
            "model_module": "@jupyter-widgets/controls",
            "model_module_version": "2.0.0",
            "state": {
              "description_width": ""
            }
          },
          "09bcdb18c1c04fdead835bedc73f363b": {
            "model_name": "TextModel",
            "model_module": "@jupyter-widgets/controls",
            "model_module_version": "2.0.0",
            "state": {
              "value": "5.991504443804075e-06",
              "disabled": true,
              "layout": "IPY_MODEL_2143bb5da29e4b419ff3444e3e456eb3",
              "style": "IPY_MODEL_d109e9ced5a34adc956c5921bca71cf6"
            }
          },
          "0868be70b9704791a241d75ae4e7f5d0": {
            "model_name": "LayoutModel",
            "model_module": "@jupyter-widgets/base",
            "model_module_version": "2.0.0",
            "state": {
              "height": "5px",
              "width": "265px",
              "grid_area": "widget009"
            }
          },
          "97b3f3a0c89446c1a4a58c0a77922d87": {
            "model_name": "TextStyleModel",
            "model_module": "@jupyter-widgets/controls",
            "model_module_version": "2.0.0",
            "state": {
              "description_width": ""
            }
          },
          "563c49692b8f4301b8c4cd06eab28496": {
            "model_name": "TextModel",
            "model_module": "@jupyter-widgets/controls",
            "model_module_version": "2.0.0",
            "state": {
              "value": "12219.064093155463",
              "disabled": true,
              "layout": "IPY_MODEL_0868be70b9704791a241d75ae4e7f5d0",
              "style": "IPY_MODEL_97b3f3a0c89446c1a4a58c0a77922d87"
            }
          },
          "f424cf8771f64d99926e6259829ac825": {
            "model_name": "LayoutModel",
            "model_module": "@jupyter-widgets/base",
            "model_module_version": "2.0.0",
            "state": {
              "height": "5px",
              "width": "265px",
              "grid_area": "widget010"
            }
          },
          "55e24309d012405da85d51cbc34ca3a4": {
            "model_name": "TextStyleModel",
            "model_module": "@jupyter-widgets/controls",
            "model_module_version": "2.0.0",
            "state": {
              "description_width": ""
            }
          },
          "58178ee39be743d3a1bb93ff9db8a311": {
            "model_name": "TextModel",
            "model_module": "@jupyter-widgets/controls",
            "model_module_version": "2.0.0",
            "state": {
              "value": "% de Error",
              "disabled": true,
              "layout": "IPY_MODEL_f424cf8771f64d99926e6259829ac825",
              "style": "IPY_MODEL_55e24309d012405da85d51cbc34ca3a4"
            }
          },
          "cfd03956fa874ca38dd2bab364da956f": {
            "model_name": "LayoutModel",
            "model_module": "@jupyter-widgets/base",
            "model_module_version": "2.0.0",
            "state": {
              "height": "5px",
              "width": "265px",
              "grid_area": "widget011"
            }
          },
          "6670f84fa3f149579439b4cf782468ab": {
            "model_name": "TextStyleModel",
            "model_module": "@jupyter-widgets/controls",
            "model_module_version": "2.0.0",
            "state": {
              "description_width": ""
            }
          },
          "866d4421971c4996881bacbaf0e9e55e": {
            "model_name": "TextModel",
            "model_module": "@jupyter-widgets/controls",
            "model_module_version": "2.0.0",
            "state": {
              "value": "12.396269997432425",
              "disabled": true,
              "layout": "IPY_MODEL_cfd03956fa874ca38dd2bab364da956f",
              "style": "IPY_MODEL_6670f84fa3f149579439b4cf782468ab"
            }
          },
          "d521e4d8d95b453bbae74740ad09a7e7": {
            "model_name": "LayoutModel",
            "model_module": "@jupyter-widgets/base",
            "model_module_version": "2.0.0",
            "state": {
              "height": "5px",
              "width": "265px",
              "grid_area": "widget012"
            }
          },
          "0966dadd26244d41b8a144b0a3966040": {
            "model_name": "TextStyleModel",
            "model_module": "@jupyter-widgets/controls",
            "model_module_version": "2.0.0",
            "state": {
              "description_width": ""
            }
          },
          "ad8047542f9e416493e8db3118a0ca27": {
            "model_name": "TextModel",
            "model_module": "@jupyter-widgets/controls",
            "model_module_version": "2.0.0",
            "state": {
              "value": "23.961278222191133",
              "disabled": true,
              "layout": "IPY_MODEL_d521e4d8d95b453bbae74740ad09a7e7",
              "style": "IPY_MODEL_0966dadd26244d41b8a144b0a3966040"
            }
          },
          "4e7aadfdff5d48f2b38a39c3b251e97a": {
            "model_name": "LinearScaleModel",
            "model_module": "bqplot",
            "model_module_version": "^0.5",
            "state": {
              "_model_module_version": "^0.5",
              "_view_module_version": "^0.5",
              "min": -202.26894111673124,
              "max": 197.73105888326873,
              "stabilized": false
            }
          },
          "e4c42616d0124d2dbbe5991976c0384c": {
            "model_name": "LinearScaleModel",
            "model_module": "bqplot",
            "model_module_version": "^0.5",
            "state": {
              "_model_module_version": "^0.5",
              "_view_module_version": "^0.5",
              "min": -26.371955116977286,
              "max": 48.62804488302274,
              "stabilized": false
            }
          },
          "6725645d466940ddbc147f43980c8591": {
            "model_name": "LinesModel",
            "model_module": "bqplot",
            "model_module_version": "^0.5",
            "state": {
              "_model_module_version": "^0.5",
              "_view_module_version": "^0.5",
              "scales": {
                "x": "IPY_MODEL_4e7aadfdff5d48f2b38a39c3b251e97a",
                "y": "IPY_MODEL_e4c42616d0124d2dbbe5991976c0384c"
              },
              "labels": [
                "C1",
                "C2"
              ],
              "x": [
                {
                  "dtype": "float64",
                  "shape": [
                    5
                  ],
                  "type": null
                },
                {
                  "dtype": "float64",
                  "shape": [
                    2
                  ],
                  "type": null
                }
              ],
              "y": [
                {
                  "dtype": "float64",
                  "shape": [
                    5
                  ],
                  "type": null
                },
                {
                  "dtype": "float64",
                  "shape": [
                    2
                  ],
                  "type": null
                }
              ],
              "colors": [
                "black"
              ],
              "fill_colors": [],
              "stroke_width": 1.5,
              "opacities": [
                1
              ]
            },
            "buffers": [
              {
                "data": "AAAAAAAAacAAAAAAAABpQAAAAAAAAGlAAAAAAAAAacAAAAAAAABpwA==",
                "path": [
                  "x",
                  0,
                  "value"
                ],
                "encoding": "base64"
              },
              {
                "data": "ZmZmZmYmVMBmZmZmZiZUwA==",
                "path": [
                  "x",
                  1,
                  "value"
                ],
                "encoding": "base64"
              },
              {
                "data": "AAAAAAAAOcAAAAAAAAA5wAAAAAAAADlAAAAAAAAAOUAAAAAAAAA5wA==",
                "path": [
                  "y",
                  0,
                  "value"
                ],
                "encoding": "base64"
              },
              {
                "data": "AAAAAAAAOUAAAAAAAABJQA==",
                "path": [
                  "y",
                  1,
                  "value"
                ],
                "encoding": "base64"
              }
            ]
          },
          "deaa49b2f94a4e5ab6d6b8beff000822": {
            "model_name": "LinesModel",
            "model_module": "bqplot",
            "model_module_version": "^0.5",
            "state": {
              "_model_module_version": "^0.5",
              "_view_module_version": "^0.5",
              "scales": {
                "x": "IPY_MODEL_4e7aadfdff5d48f2b38a39c3b251e97a",
                "y": "IPY_MODEL_e4c42616d0124d2dbbe5991976c0384c"
              },
              "labels": [
                "C1"
              ],
              "x": {
                "dtype": "float64",
                "shape": [
                  5
                ],
                "type": null
              },
              "y": {
                "dtype": "float64",
                "shape": [
                  5
                ],
                "type": null
              },
              "colors": [
                "black"
              ],
              "fill_colors": [],
              "stroke_width": 1.5,
              "line_style": "dashed",
              "opacities": [
                1
              ]
            },
            "buffers": [
              {
                "data": "AAAAAAAAacAAAAAAAABpQAAAAAAAAGlAAAAAAAAAacAAAAAAAABpwA==",
                "path": [
                  "x",
                  "value"
                ],
                "encoding": "base64"
              },
              {
                "data": "AAAAAAAAAIAAAAAAAAAAgAAAAAAAAAAAAAAAAAAAAAAAAAAAAAAAgA==",
                "path": [
                  "y",
                  "value"
                ],
                "encoding": "base64"
              }
            ]
          },
          "8b6859bdbed34f4b803796cf83c21e56": {
            "model_name": "LinearScaleModel",
            "model_module": "bqplot",
            "model_module_version": "^0.5",
            "state": {
              "_model_module_version": "^0.5",
              "_view_module_version": "^0.5",
              "stabilized": false
            }
          },
          "5d90a169141d4498b284f1a700e3aa82": {
            "model_name": "LinearScaleModel",
            "model_module": "bqplot",
            "model_module_version": "^0.5",
            "state": {
              "_model_module_version": "^0.5",
              "_view_module_version": "^0.5",
              "stabilized": false
            }
          },
          "c49745c82a644ff988cd45708f5742c9": {
            "model_name": "LinesModel",
            "model_module": "bqplot",
            "model_module_version": "^0.5",
            "state": {
              "_model_module_version": "^0.5",
              "_view_module_version": "^0.5",
              "scales": {
                "x": "IPY_MODEL_8b6859bdbed34f4b803796cf83c21e56",
                "y": "IPY_MODEL_5d90a169141d4498b284f1a700e3aa82"
              },
              "labels": [
                "C1"
              ],
              "tooltip": "IPY_MODEL_a6f5ec543f084f768c24a4d83c5173b4",
              "x": {
                "dtype": "float64",
                "shape": [
                  102
                ],
                "type": null
              },
              "y": {
                "dtype": "float64",
                "shape": [
                  102
                ],
                "type": null
              },
              "colors": [
                "black"
              ],
              "fill_colors": [],
              "close_path": true,
              "fill": "inside",
              "marker": "circle",
              "marker_size": 50,
              "opacities": [
                1
              ],
              "fill_opacities": [
                0.3
              ]
            },
            "buffers": [
              {
                "data": "AAAAAAAAAAAAAAAAAAAAABW8nIKXUxBAFbycgpdTIEAgGutDY30oQBW8nIKXUzBAG+tDY31oNEAgGutDY304QCVJkiRJkjxAFbycgpdTQECYU/ByCl5CQBvrQ2N9aERAnYKXU/ByRkAgGutDY31IQKOxPjTWh0pAJUmSJEmSTECo4OUUvJxOQBW8nIKXU1BA1ofG+tBYUUCYU/ByCl5SQFofGutDY1NAG+tDY31oVEDbtm3btm1VQJ2Cl1PwclZAX07Byyl4V0AgGutDY31YQOHlFLycgllAo7E+NNaHWkBkfWisD41bQCVJkiRJklxA5hS8nIKXXUCo4OUUvJxeQGqsD431oV9AFbycgpdTYED2obE+NNZgQNaHxvrQWGFAuG3btm3bYUCYU/ByCl5iQHg5BS+n4GJAWh8a60NjY0A6BS+n4OVjQBvrQ2N9aGRA+9BYHxrrZEDbtm3btm1lQL2cgpdT8GVAnYKXU/ByZkB+aKwPjfVmQF9OwcspeGdAQDTWh8b6Z0AgGutDY31oQAAAAAAAAGlAAAAAAAAAaUDh5RS8nIJpQMHLKXg5BWpAo7E+NNaHakCDl1PwcgprQGN9aKwPjWtARWN9aKwPbEAlSZIkSZJsQAYvp+DlFG1A5hS8nIKXbUDH+tBYHxpuQKjg5RS8nG5AiMb60Fgfb0BqrA+N9aFvQCVJkiRJEnBAFbycgpdTcEAGL6fg5ZRwQPahsT401nBA5hS8nIIXcUDWh8b60FhxQMf60FgfmnFAt23btm3bcUCo4OUUvBxyQJhT8HIKXnJAiMb60FifckB4OQUvp+ByQGmsD431IXNAWh8a60Njc0BJkiRJkqRzQDoFL6fg5XNAKng5BS8ndEAb60NjfWh0QAteTsHLqXRA+9BYHxrrdEDrQ2N9aCx1QNu2bdu2bXVAzSl4OQWvdUC8nIKXU/B1QK0PjfWhMXZAnYKXU/BydkCO9aGxPrR2QH5orA+N9XZAbtu2bds2d0BfTsHLKXh3QE7Byyl4uXdAQDTWh8b6d0Awp+DlFDx4QCAa60NjfXhAEI31obG+eEAAAAAAAAB5QAAAAAAAAHlA",
                "path": [
                  "x",
                  "value"
                ],
                "encoding": "base64"
              },
              {
                "data": "AAAAAAAAAAAAAAAAAEB/QAAAAAAAQH9AAAAAAABAf0AAAAAAAEB/QAAAAAAAQH9AAAAAAABAf0AAAAAAAEB/QAAAAAAAQH9AAAAAAABAf0AAAAAAAEB/QAAAAAAAQH9AAAAAAABAf0AAAAAAAEB/QAAAAAAAQH9AAAAAAABAf0AAAAAAAEB/QAAAAAAAQH9AAAAAAABAf0AAAAAAAEB/QAAAAAAAQH9AAAAAAABAf0AAAAAAAEB/QAAAAAAAQH9AAAAAAABAf0AAAAAAAEB/QAAAAAAAQH9AAAAAAABAf0AAAAAAAEB/QAAAAAAAQH9AAAAAAABAf0AAAAAAAEB/QAAAAAAAQH9AAAAAAABAf0AAAAAAAEB/QAAAAAAAQH9AAAAAAABAf0AAAAAAAEB/QAAAAAAAQH9AAAAAAABAf0AAAAAAAEB/QAAAAAAAQH9AAAAAAABAf0AAAAAAAEB/QAAAAAAAQH9AAAAAAABAf0AAAAAAAEB/QAAAAAAAQH9AAAAAAABAf0AAAAAAAEB/QAAAAAAAQH9A7v////8/f8Du/////z9/wO7/////P3/A7v////8/f8Du/////z9/wO7/////P3/A7v////8/f8Du/////z9/wO7/////P3/A7v////8/f8Du/////z9/wO7/////P3/A7v////8/f8Du/////z9/wO7/////P3/A7v////8/f8Du/////z9/wO7/////P3/A7v////8/f8Du/////z9/wO7/////P3/A7v////8/f8Du/////z9/wO7/////P3/A7v////8/f8Du/////z9/wO7/////P3/A7v////8/f8Du/////z9/wO7/////P3/A7v////8/f8Du/////z9/wO7/////P3/A7v////8/f8Du/////z9/wO7/////P3/A7v////8/f8Du/////z9/wO7/////P3/A7v////8/f8Du/////z9/wO7/////P3/A7v////8/f8Du/////z9/wO7/////P3/A7v////8/f8Du/////z9/wO7/////P3/A7v////8/f8Du/////z9/wAAAAAAAAAAA",
                "path": [
                  "y",
                  "value"
                ],
                "encoding": "base64"
              }
            ]
          },
          "7dc1a76d2f5948c4b686a51c33d42430": {
            "model_name": "LinearScaleModel",
            "model_module": "bqplot",
            "model_module_version": "^0.5",
            "state": {
              "_model_module_version": "^0.5",
              "_view_module_version": "^0.5",
              "stabilized": false
            }
          },
          "1fca61d46f3649cf8e83ddddbd4c8c60": {
            "model_name": "LinearScaleModel",
            "model_module": "bqplot",
            "model_module_version": "^0.5",
            "state": {
              "_model_module_version": "^0.5",
              "_view_module_version": "^0.5",
              "stabilized": false
            }
          },
          "dd3e5cfc4d374bb6807606ef2b41e09e": {
            "model_name": "LinesModel",
            "model_module": "bqplot",
            "model_module_version": "^0.5",
            "state": {
              "_model_module_version": "^0.5",
              "_view_module_version": "^0.5",
              "scales": {
                "x": "IPY_MODEL_7dc1a76d2f5948c4b686a51c33d42430",
                "y": "IPY_MODEL_1fca61d46f3649cf8e83ddddbd4c8c60"
              },
              "labels": [
                "C1"
              ],
              "x": {
                "dtype": "float64",
                "shape": [
                  5
                ],
                "type": null
              },
              "y": {
                "dtype": "float64",
                "shape": [
                  5
                ],
                "type": null
              },
              "colors": [
                "black"
              ],
              "fill_colors": [],
              "close_path": true,
              "fill": "inside",
              "opacities": [
                1
              ],
              "fill_opacities": [
                0.3
              ]
            },
            "buffers": [
              {
                "data": "AAAAAAAAAAAAAAAAAAAAAAAAAAAAAGlAAAAAAAAAeUAAAAAAAAB5QA==",
                "path": [
                  "x",
                  "value"
                ],
                "encoding": "base64"
              },
              {
                "data": "AAAAAAAAAAAAAAAAAEB/QAAAAAAAQH/AAAAAAABAf8AAAAAAAAAAAA==",
                "path": [
                  "y",
                  "value"
                ],
                "encoding": "base64"
              }
            ]
          },
          "a820fd68139d4be49f3ddbc53520a917": {
            "model_name": "ScatterModel",
            "model_module": "bqplot",
            "model_module_version": "^0.5",
            "state": {
              "_model_module_version": "^0.5",
              "_view_module_version": "^0.5",
              "scales": {
                "x": "IPY_MODEL_4e7aadfdff5d48f2b38a39c3b251e97a",
                "y": "IPY_MODEL_e4c42616d0124d2dbbe5991976c0384c"
              },
              "scales_metadata": {
                "x": {
                  "orientation": "horizontal",
                  "dimension": "x"
                },
                "y": {
                  "orientation": "vertical",
                  "dimension": "y"
                },
                "color": {
                  "dimension": "color"
                },
                "size": {
                  "dimension": "size"
                },
                "opacity": {
                  "dimension": "opacity"
                },
                "rotation": {
                  "dimension": "rotation"
                },
                "skew": {
                  "dimension": "skew"
                }
              },
              "x": {
                "dtype": "float64",
                "shape": [
                  1
                ],
                "type": null
              },
              "y": {
                "dtype": "float64",
                "shape": [
                  1
                ],
                "type": null
              },
              "label_display_horizontal_offset": 0,
              "label_display_vertical_offset": 0,
              "colors": [
                "black"
              ],
              "opacities": {
                "dtype": "int32",
                "shape": [
                  1
                ],
                "type": null
              },
              "marker": "square",
              "default_size": 250
            },
            "buffers": [
              {
                "data": "AAAAAAAAacA=",
                "path": [
                  "x",
                  "value"
                ],
                "encoding": "base64"
              },
              {
                "data": "AAAAAAAAOcA=",
                "path": [
                  "y",
                  "value"
                ],
                "encoding": "base64"
              },
              {
                "data": "AQAAAA==",
                "path": [
                  "opacities",
                  "value"
                ],
                "encoding": "base64"
              }
            ]
          },
          "f349dc2acc2f4cc182c540f1b752704e": {
            "model_name": "ScatterModel",
            "model_module": "bqplot",
            "model_module_version": "^0.5",
            "state": {
              "_model_module_version": "^0.5",
              "_view_module_version": "^0.5",
              "scales": {
                "x": "IPY_MODEL_4e7aadfdff5d48f2b38a39c3b251e97a",
                "y": "IPY_MODEL_e4c42616d0124d2dbbe5991976c0384c"
              },
              "scales_metadata": {
                "x": {
                  "orientation": "horizontal",
                  "dimension": "x"
                },
                "y": {
                  "orientation": "vertical",
                  "dimension": "y"
                },
                "color": {
                  "dimension": "color"
                },
                "size": {
                  "dimension": "size"
                },
                "opacity": {
                  "dimension": "opacity"
                },
                "rotation": {
                  "dimension": "rotation"
                },
                "skew": {
                  "dimension": "skew"
                }
              },
              "x": {
                "dtype": "float64",
                "shape": [
                  1
                ],
                "type": null
              },
              "y": {
                "dtype": "float64",
                "shape": [
                  1
                ],
                "type": null
              },
              "label_display_horizontal_offset": 0,
              "label_display_vertical_offset": 0,
              "colors": [
                "black"
              ],
              "opacities": {
                "dtype": "int32",
                "shape": [
                  1
                ],
                "type": null
              },
              "marker": "triangle-up",
              "default_size": 250
            },
            "buffers": [
              {
                "data": "AAAAAAAAaUA=",
                "path": [
                  "x",
                  "value"
                ],
                "encoding": "base64"
              },
              {
                "data": "AAAAAAAAOcA=",
                "path": [
                  "y",
                  "value"
                ],
                "encoding": "base64"
              },
              {
                "data": "AQAAAA==",
                "path": [
                  "opacities",
                  "value"
                ],
                "encoding": "base64"
              }
            ]
          },
          "bf8e383a322e450697a85b9368f924cf": {
            "model_name": "ScatterModel",
            "model_module": "bqplot",
            "model_module_version": "^0.5",
            "state": {
              "_model_module_version": "^0.5",
              "_view_module_version": "^0.5",
              "scales": {
                "x": "IPY_MODEL_4e7aadfdff5d48f2b38a39c3b251e97a",
                "y": "IPY_MODEL_e4c42616d0124d2dbbe5991976c0384c"
              },
              "scales_metadata": {
                "x": {
                  "orientation": "horizontal",
                  "dimension": "x"
                },
                "y": {
                  "orientation": "vertical",
                  "dimension": "y"
                },
                "color": {
                  "dimension": "color"
                },
                "size": {
                  "dimension": "size"
                },
                "opacity": {
                  "dimension": "opacity"
                },
                "rotation": {
                  "dimension": "rotation"
                },
                "skew": {
                  "dimension": "skew"
                }
              },
              "x": {
                "dtype": "float64",
                "shape": [
                  1
                ],
                "type": null
              },
              "y": {
                "dtype": "float64",
                "shape": [
                  1
                ],
                "type": null
              },
              "label_display_horizontal_offset": 0,
              "label_display_vertical_offset": 0,
              "colors": [
                "black"
              ],
              "opacities": {
                "dtype": "int32",
                "shape": [
                  1
                ],
                "type": null
              },
              "marker": "triangle-down",
              "default_size": 100
            },
            "buffers": [
              {
                "data": "ZmZmZmYmVMA=",
                "path": [
                  "x",
                  "value"
                ],
                "encoding": "base64"
              },
              {
                "data": "AAAAAAAAOUA=",
                "path": [
                  "y",
                  "value"
                ],
                "encoding": "base64"
              },
              {
                "data": "AQAAAA==",
                "path": [
                  "opacities",
                  "value"
                ],
                "encoding": "base64"
              }
            ]
          },
          "3259eb36a26742a38593cd0971abfacc": {
            "model_name": "ScatterModel",
            "model_module": "bqplot",
            "model_module_version": "^0.5",
            "state": {
              "_model_module_version": "^0.5",
              "_view_module_version": "^0.5",
              "scales": {
                "x": "IPY_MODEL_7dc1a76d2f5948c4b686a51c33d42430",
                "y": "IPY_MODEL_1fca61d46f3649cf8e83ddddbd4c8c60"
              },
              "scales_metadata": {
                "x": {
                  "orientation": "horizontal",
                  "dimension": "x"
                },
                "y": {
                  "orientation": "vertical",
                  "dimension": "y"
                },
                "color": {
                  "dimension": "color"
                },
                "size": {
                  "dimension": "size"
                },
                "opacity": {
                  "dimension": "opacity"
                },
                "rotation": {
                  "dimension": "rotation"
                },
                "skew": {
                  "dimension": "skew"
                }
              },
              "tooltip": "IPY_MODEL_b5e1f3bb95fa4ea0817f41ac999352b2",
              "x": {
                "dtype": "float64",
                "shape": [
                  3
                ],
                "type": null
              },
              "y": {
                "dtype": "float64",
                "shape": [
                  3
                ],
                "type": null
              },
              "label_display_horizontal_offset": 0,
              "label_display_vertical_offset": 0,
              "unhovered_style": {
                "opacity": 0.5
              },
              "colors": [
                "black"
              ],
              "opacities": {
                "dtype": "int32",
                "shape": [
                  1
                ],
                "type": null
              },
              "default_size": 50,
              "names": {
                "dtype": "int32",
                "shape": [
                  3
                ],
                "type": null
              }
            },
            "buffers": [
              {
                "data": "AAAAAAAAAAAAAAAAAABpQAAAAAAAAHlA",
                "path": [
                  "x",
                  "value"
                ],
                "encoding": "base64"
              },
              {
                "data": "AAAAAABAf0AAAAAAAEB/wAAAAAAAQH/A",
                "path": [
                  "y",
                  "value"
                ],
                "encoding": "base64"
              },
              {
                "data": "AQAAAA==",
                "path": [
                  "opacities",
                  "value"
                ],
                "encoding": "base64"
              },
              {
                "data": "AQAAAAIAAAADAAAA",
                "path": [
                  "names",
                  "value"
                ],
                "encoding": "base64"
              }
            ]
          },
          "32e737ced9df4ea3907523f72d2d34cd": {
            "model_name": "AxisModel",
            "model_module": "bqplot",
            "model_module_version": "^0.5",
            "state": {
              "_model_module_version": "^0.5",
              "_view_module_version": "^0.5",
              "side": "bottom",
              "label": "Longitud (mm)",
              "grid_lines": "none",
              "tick_format": "0.0f",
              "tick_labels": {},
              "scale": "IPY_MODEL_4e7aadfdff5d48f2b38a39c3b251e97a",
              "label_color": "black",
              "color": "black",
              "label_offset": "-2em",
              "tick_style": {
                "stroke": "black"
              }
            }
          },
          "2e067e4d725e4215ae4099e6a6f38d0e": {
            "model_name": "AxisModel",
            "model_module": "bqplot",
            "model_module_version": "^0.5",
            "state": {
              "_model_module_version": "^0.5",
              "_view_module_version": "^0.5",
              "orientation": "vertical",
              "side": "left",
              "label": "Diametro (mm)",
              "grid_lines": "none",
              "tick_format": "0.0f",
              "tick_labels": {},
              "scale": "IPY_MODEL_e4c42616d0124d2dbbe5991976c0384c",
              "label_color": "black",
              "color": "black",
              "label_offset": "-2em",
              "tick_style": {
                "stroke": "black"
              }
            }
          },
          "f35c22bcb09743648bea2a46216d6e77": {
            "model_name": "PanZoomModel",
            "model_module": "bqplot",
            "model_module_version": "^0.5",
            "state": {
              "_model_module_version": "^0.5",
              "_view_module_version": "^0.5",
              "scales": {
                "x": [
                  "IPY_MODEL_4e7aadfdff5d48f2b38a39c3b251e97a"
                ],
                "y": [
                  "IPY_MODEL_e4c42616d0124d2dbbe5991976c0384c"
                ]
              }
            }
          },
          "7f28148ce6f54ee5bd15fccf414052c7": {
            "model_name": "LayoutModel",
            "model_module": "@jupyter-widgets/base",
            "model_module_version": "2.0.0",
            "state": {
              "height": "65%",
              "width": "auto"
            }
          },
          "759a1dfaf8454bc388522e0e5cc55406": {
            "model_name": "LinearScaleModel",
            "model_module": "bqplot",
            "model_module_version": "^0.5",
            "state": {
              "_model_module_version": "^0.5",
              "_view_module_version": "^0.5",
              "allow_padding": false,
              "min": 0,
              "max": 1,
              "stabilized": false
            }
          },
          "da95e0c5a258460baa5e85ac40e7f04c": {
            "model_name": "LinearScaleModel",
            "model_module": "bqplot",
            "model_module_version": "^0.5",
            "state": {
              "_model_module_version": "^0.5",
              "_view_module_version": "^0.5",
              "allow_padding": false,
              "min": 0,
              "max": 1,
              "stabilized": false
            }
          },
          "3114427491da4cd485a9a8a88b13663f": {
            "model_name": "FigureModel",
            "model_module": "bqplot",
            "model_module_version": "^0.5",
            "state": {
              "_model_module_version": "^0.5",
              "_view_module_version": "^0.5",
              "title": "Esquema del eje a analizar",
              "axes": [
                "IPY_MODEL_32e737ced9df4ea3907523f72d2d34cd",
                "IPY_MODEL_2e067e4d725e4215ae4099e6a6f38d0e"
              ],
              "marks": [
                "IPY_MODEL_6725645d466940ddbc147f43980c8591",
                "IPY_MODEL_deaa49b2f94a4e5ab6d6b8beff000822",
                "IPY_MODEL_a820fd68139d4be49f3ddbc53520a917",
                "IPY_MODEL_f349dc2acc2f4cc182c540f1b752704e",
                "IPY_MODEL_bf8e383a322e450697a85b9368f924cf"
              ],
              "interaction": "IPY_MODEL_f35c22bcb09743648bea2a46216d6e77",
              "scale_x": "IPY_MODEL_759a1dfaf8454bc388522e0e5cc55406",
              "scale_y": "IPY_MODEL_da95e0c5a258460baa5e85ac40e7f04c",
              "title_style": {
                "font-size": "15px",
                "fill": "black"
              },
              "fig_margin": {
                "left": 50,
                "top": 20,
                "bottom": 30,
                "right": 30
              },
              "layout": "IPY_MODEL_7f28148ce6f54ee5bd15fccf414052c7"
            }
          },
          "12b4a491215d4200bd97e131faa0ae41": {
            "model_name": "AxisModel",
            "model_module": "bqplot",
            "model_module_version": "^0.5",
            "state": {
              "_model_module_version": "^0.5",
              "_view_module_version": "^0.5",
              "side": "bottom",
              "label": "Longitud (mm)",
              "grid_lines": "dashed",
              "tick_format": "0.0f",
              "tick_labels": {},
              "scale": "IPY_MODEL_8b6859bdbed34f4b803796cf83c21e56",
              "label_color": "black",
              "color": "black",
              "label_offset": "-1em",
              "tick_style": {
                "stroke": "black"
              }
            }
          },
          "3182cd68181548d5b5302beb8b6e1c78": {
            "model_name": "AxisModel",
            "model_module": "bqplot",
            "model_module_version": "^0.5",
            "state": {
              "_model_module_version": "^0.5",
              "_view_module_version": "^0.5",
              "orientation": "vertical",
              "side": "left",
              "label": "Cortantes (N)",
              "grid_lines": "dashed",
              "tick_format": "0.0f",
              "tick_labels": {},
              "scale": "IPY_MODEL_5d90a169141d4498b284f1a700e3aa82",
              "label_color": "black",
              "color": "black",
              "label_offset": "-1em",
              "tick_style": {
                "stroke": "black"
              }
            }
          },
          "5d856a8cdf1e4d31805b57c43af3fc3d": {
            "model_name": "LayoutModel",
            "model_module": "@jupyter-widgets/base",
            "model_module_version": "2.0.0",
            "state": {
              "height": "100%",
              "width": "auto"
            }
          },
          "39ea37bb25774cb6b27a7b0226d062ac": {
            "model_name": "LinearScaleModel",
            "model_module": "bqplot",
            "model_module_version": "^0.5",
            "state": {
              "_model_module_version": "^0.5",
              "_view_module_version": "^0.5",
              "allow_padding": false,
              "min": 0,
              "max": 1,
              "stabilized": false
            }
          },
          "777f912ed1064954827fd3d37e8444e7": {
            "model_name": "LinearScaleModel",
            "model_module": "bqplot",
            "model_module_version": "^0.5",
            "state": {
              "_model_module_version": "^0.5",
              "_view_module_version": "^0.5",
              "allow_padding": false,
              "min": 0,
              "max": 1,
              "stabilized": false
            }
          },
          "9b2f487d64734edf9d36b44a3a50f285": {
            "model_name": "FigureModel",
            "model_module": "bqplot",
            "model_module_version": "^0.5",
            "state": {
              "_model_module_version": "^0.5",
              "_view_module_version": "^0.5",
              "axes": [
                "IPY_MODEL_12b4a491215d4200bd97e131faa0ae41",
                "IPY_MODEL_3182cd68181548d5b5302beb8b6e1c78"
              ],
              "marks": [
                "IPY_MODEL_c49745c82a644ff988cd45708f5742c9"
              ],
              "scale_x": "IPY_MODEL_39ea37bb25774cb6b27a7b0226d062ac",
              "scale_y": "IPY_MODEL_777f912ed1064954827fd3d37e8444e7",
              "fig_margin": {
                "left": 50,
                "top": 20,
                "bottom": 30,
                "right": 30
              },
              "layout": "IPY_MODEL_5d856a8cdf1e4d31805b57c43af3fc3d"
            }
          },
          "f9fd52ad166a4b12a30f69e52c5e328e": {
            "model_name": "AxisModel",
            "model_module": "bqplot",
            "model_module_version": "^0.5",
            "state": {
              "_model_module_version": "^0.5",
              "_view_module_version": "^0.5",
              "side": "bottom",
              "label": "Longitud (mm)",
              "grid_lines": "dashed",
              "tick_format": "0.0f",
              "tick_labels": {},
              "scale": "IPY_MODEL_7dc1a76d2f5948c4b686a51c33d42430",
              "label_color": "black",
              "color": "black",
              "label_offset": "-1em",
              "tick_style": {
                "stroke": "black"
              }
            }
          },
          "e9ea81739df44a18a78fd4a557935c65": {
            "model_name": "AxisModel",
            "model_module": "bqplot",
            "model_module_version": "^0.5",
            "state": {
              "_model_module_version": "^0.5",
              "_view_module_version": "^0.5",
              "orientation": "vertical",
              "side": "left",
              "label": "Cortantes (N)",
              "grid_lines": "dashed",
              "tick_format": "0.0f",
              "tick_labels": {},
              "scale": "IPY_MODEL_1fca61d46f3649cf8e83ddddbd4c8c60",
              "label_color": "black",
              "color": "black",
              "label_offset": "-1em",
              "tick_style": {
                "stroke": "black"
              }
            }
          },
          "a2ccee2d0ff8422eb4ba4cb599e757f5": {
            "model_name": "LayoutModel",
            "model_module": "@jupyter-widgets/base",
            "model_module_version": "2.0.0",
            "state": {
              "height": "100%",
              "width": "auto"
            }
          },
          "009f5068393b4e66bf5696671f580052": {
            "model_name": "LinearScaleModel",
            "model_module": "bqplot",
            "model_module_version": "^0.5",
            "state": {
              "_model_module_version": "^0.5",
              "_view_module_version": "^0.5",
              "allow_padding": false,
              "min": 0,
              "max": 1,
              "stabilized": false
            }
          },
          "94c48686e2bb477b8486d814333ca9f3": {
            "model_name": "LinearScaleModel",
            "model_module": "bqplot",
            "model_module_version": "^0.5",
            "state": {
              "_model_module_version": "^0.5",
              "_view_module_version": "^0.5",
              "allow_padding": false,
              "min": 0,
              "max": 1,
              "stabilized": false
            }
          },
          "0ccc93fa110e4169af8873a31e3f773e": {
            "model_name": "FigureModel",
            "model_module": "bqplot",
            "model_module_version": "^0.5",
            "state": {
              "_model_module_version": "^0.5",
              "_view_module_version": "^0.5",
              "axes": [
                "IPY_MODEL_f9fd52ad166a4b12a30f69e52c5e328e",
                "IPY_MODEL_e9ea81739df44a18a78fd4a557935c65"
              ],
              "marks": [
                "IPY_MODEL_dd3e5cfc4d374bb6807606ef2b41e09e",
                "IPY_MODEL_3259eb36a26742a38593cd0971abfacc"
              ],
              "scale_x": "IPY_MODEL_009f5068393b4e66bf5696671f580052",
              "scale_y": "IPY_MODEL_94c48686e2bb477b8486d814333ca9f3",
              "fig_margin": {
                "left": 50,
                "top": 20,
                "bottom": 30,
                "right": 30
              },
              "layout": "IPY_MODEL_a2ccee2d0ff8422eb4ba4cb599e757f5"
            }
          },
          "722a3f4a289d4ac89f4073eb6149cd89": {
            "model_name": "LayoutModel",
            "model_module": "@jupyter-widgets/base",
            "model_module_version": "2.0.0",
            "state": {
              "border_top": "0px",
              "border_right": "0px",
              "border_bottom": "0px",
              "border_left": "0px",
              "height": "auto",
              "justify_content": "space-around",
              "margin": "0px",
              "padding": "0px",
              "width": "auto"
            }
          },
          "3ac158e5840a43dda641df861a8dbbb4": {
            "model_name": "HBoxModel",
            "model_module": "@jupyter-widgets/controls",
            "model_module_version": "2.0.0",
            "state": {
              "children": [
                "IPY_MODEL_96f12660de43426c8f676090ab14196a",
                "IPY_MODEL_147fe3af420c45c9b6b7379d107f6d5b",
                "IPY_MODEL_60909c8064074ccf8f79e4dc52704dda",
                "IPY_MODEL_c567222ff24344b1b6cb0dee24f7aa2e"
              ],
              "layout": "IPY_MODEL_722a3f4a289d4ac89f4073eb6149cd89"
            }
          },
          "9ac069aff76f41779de25be6425c313c": {
            "model_name": "LayoutModel",
            "model_module": "@jupyter-widgets/base",
            "model_module_version": "2.0.0",
            "state": {
              "border_top": "0px",
              "border_right": "0px",
              "border_bottom": "0px",
              "border_left": "0px",
              "height": "auto",
              "justify_content": "space-around",
              "margin": "0px",
              "padding": "0px",
              "width": "auto"
            }
          },
          "f590fa6fea72440aa72c3e3d245cfcff": {
            "model_name": "VBoxModel",
            "model_module": "@jupyter-widgets/controls",
            "model_module_version": "2.0.0",
            "state": {
              "children": [
                "IPY_MODEL_3ac158e5840a43dda641df861a8dbbb4",
                "IPY_MODEL_3114427491da4cd485a9a8a88b13663f",
                "IPY_MODEL_e1fa2d8a6b97474896799464c30ccd93"
              ],
              "layout": "IPY_MODEL_9ac069aff76f41779de25be6425c313c"
            }
          },
          "0e876b3501e94dc8beaaff61a9e2ff8f": {
            "model_name": "LayoutModel",
            "model_module": "@jupyter-widgets/base",
            "model_module_version": "2.0.0",
            "state": {
              "border_top": "0px",
              "border_right": "0px",
              "border_bottom": "0px",
              "border_left": "0px",
              "height": "auto",
              "justify_content": "flex-start",
              "margin": "0px",
              "padding": "0px",
              "width": "auto"
            }
          },
          "d1b60cafb3be44c193dd34e43bde2a54": {
            "model_name": "VBoxModel",
            "model_module": "@jupyter-widgets/controls",
            "model_module_version": "2.0.0",
            "state": {
              "children": [
                "IPY_MODEL_9fcc825c79cf458dacaf6c6d8732e909",
                "IPY_MODEL_9350a7e2717542a1b6ea74b6da20e9eb",
                "IPY_MODEL_426a0cea75b441a590d02245bda32f08",
                "IPY_MODEL_113b21db34aa4afaab9fbc67477d7655",
                "IPY_MODEL_1de0f0ea0fc648c09a48d8b88c9a0049",
                "IPY_MODEL_b9f081ab9a544c13bd76512ce30862ad",
                "IPY_MODEL_965935083d2a472ea3bacf30439285cf",
                "IPY_MODEL_0c1732efaeed40c99a20376d4352945c",
                "IPY_MODEL_b6d81b6c86e6416da6d861cb38fb89e1",
                "IPY_MODEL_d8b57e74fce44892a77a6351e2f8ef7f",
                "IPY_MODEL_3cd1d072acda4f48aee7e407dfc56b8e",
                "IPY_MODEL_a3692b4cf51a4cba9f3956135dffaf6d"
              ],
              "layout": "IPY_MODEL_0e876b3501e94dc8beaaff61a9e2ff8f"
            }
          },
          "641c96d58ec6455190f3843fe22dc328": {
            "model_name": "LayoutModel",
            "model_module": "@jupyter-widgets/base",
            "model_module_version": "2.0.0",
            "state": {
              "border_top": "0px",
              "border_right": "0px",
              "border_bottom": "0px",
              "border_left": "0px",
              "height": "100%",
              "justify_content": "space-around",
              "margin": "0px",
              "padding": "0px",
              "width": "100%"
            }
          },
          "587a6862ac704c1ebb56f69a0cca642e": {
            "model_name": "HBoxModel",
            "model_module": "@jupyter-widgets/controls",
            "model_module_version": "2.0.0",
            "state": {
              "children": [
                "IPY_MODEL_d1b60cafb3be44c193dd34e43bde2a54",
                "IPY_MODEL_f590fa6fea72440aa72c3e3d245cfcff"
              ],
              "layout": "IPY_MODEL_641c96d58ec6455190f3843fe22dc328"
            }
          },
          "4a374541a6534e92ab507d5d8864efc5": {
            "model_name": "LayoutModel",
            "model_module": "@jupyter-widgets/base",
            "model_module_version": "2.0.0",
            "state": {}
          },
          "235b079f93b143479cb51c95dbc88082": {
            "model_name": "HTMLStyleModel",
            "model_module": "@jupyter-widgets/controls",
            "model_module_version": "2.0.0",
            "state": {
              "description_width": ""
            }
          },
          "2dd8e29c25ad465790beaf3431d0cc77": {
            "model_name": "HTMLModel",
            "model_module": "@jupyter-widgets/controls",
            "model_module_version": "2.0.0",
            "state": {
              "value": "<div style=\"border-bottom: 1.5px solid #000;\"></div>",
              "layout": "IPY_MODEL_4a374541a6534e92ab507d5d8864efc5",
              "style": "IPY_MODEL_235b079f93b143479cb51c95dbc88082"
            }
          },
          "9cf97fdcf55f42f09b8240e45ad06383": {
            "model_name": "LayoutModel",
            "model_module": "@jupyter-widgets/base",
            "model_module_version": "2.0.0",
            "state": {
              "border_top": "0px",
              "border_right": "0px",
              "border_bottom": "0px",
              "border_left": "0px",
              "margin": "0px",
              "padding": "0px"
            }
          },
          "c05b8b9b17d74ae399d1f2259193b236": {
            "model_name": "HTMLMathStyleModel",
            "model_module": "@jupyter-widgets/controls",
            "model_module_version": "2.0.0",
            "state": {
              "description_width": ""
            }
          },
          "85e16b3bb5ee445eb87845155646f3e9": {
            "model_name": "HTMLMathModel",
            "model_module": "@jupyter-widgets/controls",
            "model_module_version": "2.0.0",
            "state": {
              "value": "$- m_{1} + r_{1} x$",
              "layout": "IPY_MODEL_9cf97fdcf55f42f09b8240e45ad06383",
              "style": "IPY_MODEL_c05b8b9b17d74ae399d1f2259193b236"
            }
          },
          "d7988cb07b9f4b7fa871897fda52be09": {
            "model_name": "LayoutModel",
            "model_module": "@jupyter-widgets/base",
            "model_module_version": "2.0.0",
            "state": {
              "border_top": "0px",
              "border_right": "0px",
              "border_bottom": "0px",
              "border_left": "0px",
              "margin": "0px",
              "padding": "0px"
            }
          },
          "184aaabf882a40baa98188e21491f586": {
            "model_name": "HTMLMathStyleModel",
            "model_module": "@jupyter-widgets/controls",
            "model_module_version": "2.0.0",
            "state": {
              "description_width": ""
            }
          },
          "f54224f7efb54c18b91dbb60fdb0c062": {
            "model_name": "HTMLMathModel",
            "model_module": "@jupyter-widgets/controls",
            "model_module_version": "2.0.0",
            "state": {
              "value": "$c_{1} x + c_{2} - \\frac{m_{1} x^{2}}{2} + \\frac{r_{1} x^{3}}{6}$",
              "layout": "IPY_MODEL_d7988cb07b9f4b7fa871897fda52be09",
              "style": "IPY_MODEL_184aaabf882a40baa98188e21491f586"
            }
          },
          "a7eebffc77ac4c8582486538ff6ee886": {
            "model_name": "LayoutModel",
            "model_module": "@jupyter-widgets/base",
            "model_module_version": "2.0.0",
            "state": {
              "border_top": "0px",
              "border_right": "0px",
              "border_bottom": "0px",
              "border_left": "0px",
              "margin": "0px",
              "padding": "0px"
            }
          },
          "7d8bdecc78c542b6ab806f21dcbd0f2b": {
            "model_name": "HTMLMathStyleModel",
            "model_module": "@jupyter-widgets/controls",
            "model_module_version": "2.0.0",
            "state": {
              "description_width": ""
            }
          },
          "e18868b0b1114ac39787b12e462eb47a": {
            "model_name": "HTMLMathModel",
            "model_module": "@jupyter-widgets/controls",
            "model_module_version": "2.0.0",
            "state": {
              "value": "$\\left( r_{1} + r_{2} - 1000.0, \\  m_{1} + m_{2} + 0.4 r_{2} - 200.0, \\  - 1.57463441281257 \\cdot 10^{-5} c_{1} + 1.57463441281257 \\cdot 10^{-5} c_{3} + 0.000314926882562514, \\  - 3.14926882562514 \\cdot 10^{-6} c_{1} - 1.57463441281257 \\cdot 10^{-5} c_{2} + 3.14926882562514 \\cdot 10^{-6} c_{3} + 1.57463441281257 \\cdot 10^{-5} c_{4} + 4.19902510083352 \\cdot 10^{-5}, \\  c_{2}, \\  0.4 c_{3} + c_{4} - 0.08 m_{1} + 0.0106666666666667 r_{1} + 5.33333333333334, \\  c_{1}, \\  c_{3} - 0.4 m_{1} + 0.08 r_{1} - 1.4210854715202 \\cdot 10^{-14}\\right)$",
              "layout": "IPY_MODEL_a7eebffc77ac4c8582486538ff6ee886",
              "style": "IPY_MODEL_7d8bdecc78c542b6ab806f21dcbd0f2b"
            }
          },
          "e60d51f98896484599e864c11813df8c": {
            "model_name": "LayoutModel",
            "model_module": "@jupyter-widgets/base",
            "model_module_version": "2.0.0",
            "state": {
              "border_top": "0px",
              "border_right": "0px",
              "border_bottom": "0px",
              "border_left": "0px",
              "margin": "0px",
              "padding": "0px"
            }
          },
          "d000dec8de774cb1b8d87136ebb429c7": {
            "model_name": "HTMLMathStyleModel",
            "model_module": "@jupyter-widgets/controls",
            "model_module_version": "2.0.0",
            "state": {
              "description_width": ""
            }
          },
          "a583928a6459462c96b253cdb9a1750e": {
            "model_name": "HTMLMathModel",
            "model_module": "@jupyter-widgets/controls",
            "model_module_version": "2.0.0",
            "state": {
              "value": "$\\left\\{ c_{1} : 0.0, \\  c_{2} : 0.0, \\  c_{3} : -20.0, \\  c_{4} : 1.33333333333333, \\  m_{1} : 50.0000000000001, \\  m_{2} : -49.9999999999999, \\  r_{1} : 500.000000000001, \\  r_{2} : 499.999999999999\\right\\}$",
              "layout": "IPY_MODEL_e60d51f98896484599e864c11813df8c",
              "style": "IPY_MODEL_d000dec8de774cb1b8d87136ebb429c7"
            }
          },
          "36cbb00e64ab4f92acf042bf13d52434": {
            "model_name": "LayoutModel",
            "model_module": "@jupyter-widgets/base",
            "model_module_version": "2.0.0",
            "state": {
              "border_top": "0px",
              "border_right": "0px",
              "border_bottom": "0px",
              "border_left": "0px",
              "margin": "0px",
              "padding": "0px"
            }
          },
          "581e61b041ac47f6b858111367b69efd": {
            "model_name": "HTMLMathStyleModel",
            "model_module": "@jupyter-widgets/controls",
            "model_module_version": "2.0.0",
            "state": {
              "description_width": ""
            }
          },
          "8b61cd687f33420087c904bcaf0cb663": {
            "model_name": "HTMLMathModel",
            "model_module": "@jupyter-widgets/controls",
            "model_module_version": "2.0.0",
            "state": {
              "value": "$0.00131219534401047 x^{3} - 0.000393658603203143 x^{2}$",
              "layout": "IPY_MODEL_36cbb00e64ab4f92acf042bf13d52434",
              "style": "IPY_MODEL_581e61b041ac47f6b858111367b69efd"
            }
          },
          "2b08ed145b8a4baa83e40285ab0e13b1": {
            "model_name": "LayoutModel",
            "model_module": "@jupyter-widgets/base",
            "model_module_version": "2.0.0",
            "state": {
              "border_top": "0px",
              "border_right": "0px",
              "border_bottom": "0px",
              "border_left": "0px",
              "margin": "0px",
              "padding": "0px"
            }
          },
          "5fe3e24991b44a17948a156d2f1f3fc6": {
            "model_name": "HTMLMathStyleModel",
            "model_module": "@jupyter-widgets/controls",
            "model_module_version": "2.0.0",
            "state": {
              "description_width": ""
            }
          },
          "ac3fb00a99574ef88edfd11c3681f71c": {
            "model_name": "HTMLMathModel",
            "model_module": "@jupyter-widgets/controls",
            "model_module_version": "2.0.0",
            "state": {
              "value": "$500.0 x - 50.0000000000001$",
              "layout": "IPY_MODEL_2b08ed145b8a4baa83e40285ab0e13b1",
              "style": "IPY_MODEL_5fe3e24991b44a17948a156d2f1f3fc6"
            }
          },
          "7482045113dd420d93755f0090df07e6": {
            "model_name": "LayoutModel",
            "model_module": "@jupyter-widgets/base",
            "model_module_version": "2.0.0",
            "state": {
              "border_top": "0px",
              "border_right": "0px",
              "border_bottom": "0px",
              "border_left": "0px",
              "margin": "0px",
              "padding": "0px"
            }
          },
          "d45a37bd2dcb47a4af46e973f706cc98": {
            "model_name": "HTMLMathStyleModel",
            "model_module": "@jupyter-widgets/controls",
            "model_module_version": "2.0.0",
            "state": {
              "description_width": ""
            }
          },
          "4d6aa8b3f6524e478f6851be1cd79b0f": {
            "model_name": "HTMLMathModel",
            "model_module": "@jupyter-widgets/controls",
            "model_module_version": "2.0.0",
            "state": {
              "value": "$r_{1}$",
              "layout": "IPY_MODEL_7482045113dd420d93755f0090df07e6",
              "style": "IPY_MODEL_d45a37bd2dcb47a4af46e973f706cc98"
            }
          },
          "08492f0eb2d84d978b75b9b97b8410f1": {
            "model_name": "LayoutModel",
            "model_module": "@jupyter-widgets/base",
            "model_module_version": "2.0.0",
            "state": {
              "border_top": "0px",
              "border_right": "0px",
              "border_bottom": "0px",
              "border_left": "0px",
              "margin": "0px",
              "padding": "0px"
            }
          },
          "f956d0eefb994a1986acec334c2d21d4": {
            "model_name": "HTMLMathStyleModel",
            "model_module": "@jupyter-widgets/controls",
            "model_module_version": "2.0.0",
            "state": {
              "description_width": ""
            }
          },
          "0ca19a0268994a809cae7d3edac02f16": {
            "model_name": "HTMLMathModel",
            "model_module": "@jupyter-widgets/controls",
            "model_module_version": "2.0.0",
            "state": {
              "value": "$c_{1} - m_{1} x + \\frac{r_{1} x^{2}}{2}$",
              "layout": "IPY_MODEL_08492f0eb2d84d978b75b9b97b8410f1",
              "style": "IPY_MODEL_f956d0eefb994a1986acec334c2d21d4"
            }
          },
          "3940d2f1d80c4ccbafab8bfda37d91db": {
            "model_name": "LayoutModel",
            "model_module": "@jupyter-widgets/base",
            "model_module_version": "2.0.0",
            "state": {
              "border_top": "0px",
              "border_right": "0px",
              "border_bottom": "0px",
              "border_left": "0px",
              "margin": "0px",
              "padding": "0px"
            }
          },
          "53fc7a17b43f4574b6e278655724e722": {
            "model_name": "HTMLMathStyleModel",
            "model_module": "@jupyter-widgets/controls",
            "model_module_version": "2.0.0",
            "state": {
              "description_width": ""
            }
          },
          "0f3523cc2d1b40b9ada4a17a3169c98f": {
            "model_name": "HTMLMathModel",
            "model_module": "@jupyter-widgets/controls",
            "model_module_version": "2.0.0",
            "state": {
              "value": "$0.00393658603203142 x^{2} - 0.000787317206406285 x$",
              "layout": "IPY_MODEL_3940d2f1d80c4ccbafab8bfda37d91db",
              "style": "IPY_MODEL_53fc7a17b43f4574b6e278655724e722"
            }
          },
          "8b43b1db184740bb85b96ae89f1d8faa": {
            "model_name": "LayoutModel",
            "model_module": "@jupyter-widgets/base",
            "model_module_version": "2.0.0",
            "state": {
              "border_top": "0px",
              "border_right": "0px",
              "border_bottom": "0px",
              "border_left": "0px",
              "margin": "0px",
              "padding": "0px"
            }
          },
          "ea323f4977c44a06a3fa76d59ea16375": {
            "model_name": "HTMLMathStyleModel",
            "model_module": "@jupyter-widgets/controls",
            "model_module_version": "2.0.0",
            "state": {
              "description_width": ""
            }
          },
          "f553c6beaac8463ba97549f5871c9a37": {
            "model_name": "HTMLMathModel",
            "model_module": "@jupyter-widgets/controls",
            "model_module_version": "2.0.0",
            "state": {
              "value": "$500.0$",
              "layout": "IPY_MODEL_8b43b1db184740bb85b96ae89f1d8faa",
              "style": "IPY_MODEL_ea323f4977c44a06a3fa76d59ea16375"
            }
          },
          "5ffa2182045846c4ab343d820c89795e": {
            "model_name": "LayoutModel",
            "model_module": "@jupyter-widgets/base",
            "model_module_version": "2.0.0",
            "state": {}
          },
          "a3d6b2ca096d451f8d6a9d947e4698f9": {
            "model_name": "HTMLMathStyleModel",
            "model_module": "@jupyter-widgets/controls",
            "model_module_version": "2.0.0",
            "state": {
              "description_width": ""
            }
          },
          "180ab95b4b6142f4b43a27acb202735f": {
            "model_name": "HTMLMathModel",
            "model_module": "@jupyter-widgets/controls",
            "model_module_version": "2.0.0",
            "state": {
              "value": "<font size = '3', font color = 'black', font face = 'Times New Roman'>Ecuacion de cortantes:",
              "layout": "IPY_MODEL_5ffa2182045846c4ab343d820c89795e",
              "style": "IPY_MODEL_a3d6b2ca096d451f8d6a9d947e4698f9"
            }
          },
          "c4830a983b6749a482664ff2bd64e8f6": {
            "model_name": "LayoutModel",
            "model_module": "@jupyter-widgets/base",
            "model_module_version": "2.0.0",
            "state": {}
          },
          "e57d73c4cb0349e8b4932b38d66faf67": {
            "model_name": "HTMLMathStyleModel",
            "model_module": "@jupyter-widgets/controls",
            "model_module_version": "2.0.0",
            "state": {
              "description_width": ""
            }
          },
          "408c360cc27c46828efba8cb8f12699e": {
            "model_name": "HTMLMathModel",
            "model_module": "@jupyter-widgets/controls",
            "model_module_version": "2.0.0",
            "state": {
              "value": "<font size = '3', font color = 'black', font face = 'Times New Roman'>Ecuacion de momentos:",
              "layout": "IPY_MODEL_c4830a983b6749a482664ff2bd64e8f6",
              "style": "IPY_MODEL_e57d73c4cb0349e8b4932b38d66faf67"
            }
          },
          "403dd9cd0a7148f784573a8fd4e77e69": {
            "model_name": "LayoutModel",
            "model_module": "@jupyter-widgets/base",
            "model_module_version": "2.0.0",
            "state": {}
          },
          "49f775fef2664d3086aa44fac4d78702": {
            "model_name": "HTMLMathStyleModel",
            "model_module": "@jupyter-widgets/controls",
            "model_module_version": "2.0.0",
            "state": {
              "description_width": ""
            }
          },
          "24f65404db0f4fb7844a1becbf005d8d": {
            "model_name": "HTMLMathModel",
            "model_module": "@jupyter-widgets/controls",
            "model_module_version": "2.0.0",
            "state": {
              "value": "<font size = '3', font color = 'black', font face = 'Times New Roman'>Ecuacion de pendientes:",
              "layout": "IPY_MODEL_403dd9cd0a7148f784573a8fd4e77e69",
              "style": "IPY_MODEL_49f775fef2664d3086aa44fac4d78702"
            }
          },
          "ca097ce340c14d22b98db8515f8e82ac": {
            "model_name": "LayoutModel",
            "model_module": "@jupyter-widgets/base",
            "model_module_version": "2.0.0",
            "state": {}
          },
          "8d83890eaf4c44b5bd8ce93a36d8a9d7": {
            "model_name": "HTMLMathStyleModel",
            "model_module": "@jupyter-widgets/controls",
            "model_module_version": "2.0.0",
            "state": {
              "description_width": ""
            }
          },
          "d73943a03a2546698a02aabf2c612151": {
            "model_name": "HTMLMathModel",
            "model_module": "@jupyter-widgets/controls",
            "model_module_version": "2.0.0",
            "state": {
              "value": "<font size = '3', font color = 'black', font face = 'Times New Roman'>Ecuacion de deflexiones:",
              "layout": "IPY_MODEL_ca097ce340c14d22b98db8515f8e82ac",
              "style": "IPY_MODEL_8d83890eaf4c44b5bd8ce93a36d8a9d7"
            }
          },
          "a13d7d0f3eb64f198112d5d62d69a846": {
            "model_name": "LayoutModel",
            "model_module": "@jupyter-widgets/base",
            "model_module_version": "2.0.0",
            "state": {}
          },
          "11ba1b15b8ce4c62bc8053d526fcfcbb": {
            "model_name": "HTMLMathStyleModel",
            "model_module": "@jupyter-widgets/controls",
            "model_module_version": "2.0.0",
            "state": {
              "description_width": ""
            }
          },
          "430add1973e5482b8167b8f804e8f5d6": {
            "model_name": "HTMLMathModel",
            "model_module": "@jupyter-widgets/controls",
            "model_module_version": "2.0.0",
            "state": {
              "value": "<font size = '3', font color = 'black', font face = 'Times New Roman'>Sistema de ecuaciones:",
              "layout": "IPY_MODEL_a13d7d0f3eb64f198112d5d62d69a846",
              "style": "IPY_MODEL_11ba1b15b8ce4c62bc8053d526fcfcbb"
            }
          },
          "aad944120f3e4e5ba9fb63c348d35371": {
            "model_name": "LayoutModel",
            "model_module": "@jupyter-widgets/base",
            "model_module_version": "2.0.0",
            "state": {}
          },
          "d5e5c6e97421429ead8cef2396ddcd29": {
            "model_name": "HTMLMathStyleModel",
            "model_module": "@jupyter-widgets/controls",
            "model_module_version": "2.0.0",
            "state": {
              "description_width": ""
            }
          },
          "dfd216fc817442cb8b9a34f9422554d6": {
            "model_name": "HTMLMathModel",
            "model_module": "@jupyter-widgets/controls",
            "model_module_version": "2.0.0",
            "state": {
              "value": "<font size = '3', font color = 'black', font face = 'Times New Roman'>Resultados:",
              "layout": "IPY_MODEL_aad944120f3e4e5ba9fb63c348d35371",
              "style": "IPY_MODEL_d5e5c6e97421429ead8cef2396ddcd29"
            }
          },
          "ed61494b880f476385b30eefe33b5e3c": {
            "model_name": "LayoutModel",
            "model_module": "@jupyter-widgets/base",
            "model_module_version": "2.0.0",
            "state": {}
          },
          "b89e093241a14c4081f2e726980a72a2": {
            "model_name": "HTMLMathStyleModel",
            "model_module": "@jupyter-widgets/controls",
            "model_module_version": "2.0.0",
            "state": {
              "description_width": ""
            }
          },
          "441d72384cb64139a54dbf2257b1b041": {
            "model_name": "HTMLMathModel",
            "model_module": "@jupyter-widgets/controls",
            "model_module_version": "2.0.0",
            "state": {
              "value": "<font size = '3', font color = 'black', font face = 'Times New Roman'>Ecuacion de deflexiones:",
              "layout": "IPY_MODEL_ed61494b880f476385b30eefe33b5e3c",
              "style": "IPY_MODEL_b89e093241a14c4081f2e726980a72a2"
            }
          },
          "e881971c4446433da11d902611724d1e": {
            "model_name": "LayoutModel",
            "model_module": "@jupyter-widgets/base",
            "model_module_version": "2.0.0",
            "state": {}
          },
          "6430a362904c478b8d6392359c3ccbb3": {
            "model_name": "HTMLMathStyleModel",
            "model_module": "@jupyter-widgets/controls",
            "model_module_version": "2.0.0",
            "state": {
              "description_width": ""
            }
          },
          "2382fdbf2df748a6a54fd8d28245933a": {
            "model_name": "HTMLMathModel",
            "model_module": "@jupyter-widgets/controls",
            "model_module_version": "2.0.0",
            "state": {
              "value": "<font size = '3', font color = 'black', font face = 'Times New Roman'>Ecuacion de pendientes:",
              "layout": "IPY_MODEL_e881971c4446433da11d902611724d1e",
              "style": "IPY_MODEL_6430a362904c478b8d6392359c3ccbb3"
            }
          },
          "0a2be63a4112421d9dd9c998e957ee24": {
            "model_name": "LayoutModel",
            "model_module": "@jupyter-widgets/base",
            "model_module_version": "2.0.0",
            "state": {}
          },
          "aeaa1fca26ba45b4b0c56e54c9a41726": {
            "model_name": "HTMLMathStyleModel",
            "model_module": "@jupyter-widgets/controls",
            "model_module_version": "2.0.0",
            "state": {
              "description_width": ""
            }
          },
          "6d35e1a57e044838ba30b2177f363e69": {
            "model_name": "HTMLMathModel",
            "model_module": "@jupyter-widgets/controls",
            "model_module_version": "2.0.0",
            "state": {
              "value": "<font size = '3', font color = 'black', font face = 'Times New Roman'>Ecuacion de momentos:",
              "layout": "IPY_MODEL_0a2be63a4112421d9dd9c998e957ee24",
              "style": "IPY_MODEL_aeaa1fca26ba45b4b0c56e54c9a41726"
            }
          },
          "276d3bf875a44e2eabb71f22a0a9f7ce": {
            "model_name": "LayoutModel",
            "model_module": "@jupyter-widgets/base",
            "model_module_version": "2.0.0",
            "state": {}
          },
          "69b1a14be3a548fc904e50795b1ca44d": {
            "model_name": "HTMLMathStyleModel",
            "model_module": "@jupyter-widgets/controls",
            "model_module_version": "2.0.0",
            "state": {
              "description_width": ""
            }
          },
          "2dbfd1dcc6304b7ebfb49d6e4afd6545": {
            "model_name": "HTMLMathModel",
            "model_module": "@jupyter-widgets/controls",
            "model_module_version": "2.0.0",
            "state": {
              "value": "<font size = '3', font color = 'black', font face = 'Times New Roman'>Ecuacion de cortantes:",
              "layout": "IPY_MODEL_276d3bf875a44e2eabb71f22a0a9f7ce",
              "style": "IPY_MODEL_69b1a14be3a548fc904e50795b1ca44d"
            }
          },
          "f428054fd1ee4579b1dfd30cd554819d": {
            "model_name": "LayoutModel",
            "model_module": "@jupyter-widgets/base",
            "model_module_version": "2.0.0",
            "state": {
              "border_top": "0px",
              "border_right": "0px",
              "border_bottom": "0px",
              "border_left": "0px",
              "height": "auto",
              "justify_content": "space-around",
              "margin": "0px",
              "padding": "0px",
              "width": "100%"
            }
          },
          "999644c7604247178d4bc74160a27a9a": {
            "model_name": "VBoxModel",
            "model_module": "@jupyter-widgets/controls",
            "model_module_version": "2.0.0",
            "state": {
              "children": [
                "IPY_MODEL_2dd8e29c25ad465790beaf3431d0cc77",
                "IPY_MODEL_180ab95b4b6142f4b43a27acb202735f",
                "IPY_MODEL_4d6aa8b3f6524e478f6851be1cd79b0f",
                "IPY_MODEL_2dd8e29c25ad465790beaf3431d0cc77",
                "IPY_MODEL_408c360cc27c46828efba8cb8f12699e",
                "IPY_MODEL_85e16b3bb5ee445eb87845155646f3e9",
                "IPY_MODEL_2dd8e29c25ad465790beaf3431d0cc77",
                "IPY_MODEL_24f65404db0f4fb7844a1becbf005d8d",
                "IPY_MODEL_0ca19a0268994a809cae7d3edac02f16",
                "IPY_MODEL_2dd8e29c25ad465790beaf3431d0cc77",
                "IPY_MODEL_d73943a03a2546698a02aabf2c612151",
                "IPY_MODEL_f54224f7efb54c18b91dbb60fdb0c062",
                "IPY_MODEL_2dd8e29c25ad465790beaf3431d0cc77",
                "IPY_MODEL_430add1973e5482b8167b8f804e8f5d6",
                "IPY_MODEL_e18868b0b1114ac39787b12e462eb47a",
                "IPY_MODEL_2dd8e29c25ad465790beaf3431d0cc77",
                "IPY_MODEL_dfd216fc817442cb8b9a34f9422554d6",
                "IPY_MODEL_a583928a6459462c96b253cdb9a1750e",
                "IPY_MODEL_2dd8e29c25ad465790beaf3431d0cc77",
                "IPY_MODEL_441d72384cb64139a54dbf2257b1b041",
                "IPY_MODEL_8b61cd687f33420087c904bcaf0cb663",
                "IPY_MODEL_2dd8e29c25ad465790beaf3431d0cc77",
                "IPY_MODEL_2382fdbf2df748a6a54fd8d28245933a",
                "IPY_MODEL_0f3523cc2d1b40b9ada4a17a3169c98f",
                "IPY_MODEL_2dd8e29c25ad465790beaf3431d0cc77",
                "IPY_MODEL_6d35e1a57e044838ba30b2177f363e69",
                "IPY_MODEL_ac3fb00a99574ef88edfd11c3681f71c",
                "IPY_MODEL_2dd8e29c25ad465790beaf3431d0cc77",
                "IPY_MODEL_2dbfd1dcc6304b7ebfb49d6e4afd6545",
                "IPY_MODEL_f553c6beaac8463ba97549f5871c9a37",
                "IPY_MODEL_2dd8e29c25ad465790beaf3431d0cc77"
              ],
              "layout": "IPY_MODEL_f428054fd1ee4579b1dfd30cd554819d"
            }
          },
          "963e5ee5077a44999d8933fe55eafc22": {
            "model_name": "LayoutModel",
            "model_module": "@jupyter-widgets/base",
            "model_module_version": "2.0.0",
            "state": {
              "height": "auto",
              "width": "60%"
            }
          },
          "b3ce7bd7f4ca4d67aecb875a674f6d5f": {
            "model_name": "OutputModel",
            "model_module": "@jupyter-widgets/output",
            "model_module_version": "1.0.0",
            "state": {
              "outputs": [
                {
                  "output_type": "display_data",
                  "data": {
                    "text/plain": "<IPython.core.display.HTML object>",
                    "text/html": "<table border=\"1\" class=\"dataframe\">\n  <tbody>\n    <tr>\n      <td>1.669030e+08</td>\n      <td>0.000000e+00</td>\n    </tr>\n    <tr>\n      <td>0.000000e+00</td>\n      <td>2.304098e+06</td>\n    </tr>\n  </tbody>\n</table>"
                  },
                  "metadata": {}
                }
              ],
              "layout": "IPY_MODEL_963e5ee5077a44999d8933fe55eafc22"
            }
          },
          "61b1e9dd83db48ba82ac5a311841548e": {
            "model_name": "LayoutModel",
            "model_module": "@jupyter-widgets/base",
            "model_module_version": "2.0.0",
            "state": {
              "height": "auto",
              "width": "auto"
            }
          },
          "959e5a7e61a144c5ab0e116138517332": {
            "model_name": "OutputModel",
            "model_module": "@jupyter-widgets/output",
            "model_module_version": "1.0.0",
            "state": {
              "outputs": [
                {
                  "output_type": "display_data",
                  "data": {
                    "text/plain": "<IPython.core.display.HTML object>",
                    "text/html": "<table border=\"1\" class=\"dataframe\">\n  <tbody>\n    <tr>\n      <td>-1000.0</td>\n    </tr>\n    <tr>\n      <td>0.0</td>\n    </tr>\n  </tbody>\n</table>"
                  },
                  "metadata": {}
                }
              ],
              "layout": "IPY_MODEL_61b1e9dd83db48ba82ac5a311841548e"
            }
          },
          "3adcd817152e4ec2b6f36c838f045b9e": {
            "model_name": "LayoutModel",
            "model_module": "@jupyter-widgets/base",
            "model_module_version": "2.0.0",
            "state": {
              "height": "auto",
              "width": "auto"
            }
          },
          "d7c9aa86f87b445da2427b0cff9783ee": {
            "model_name": "OutputModel",
            "model_module": "@jupyter-widgets/output",
            "model_module_version": "1.0.0",
            "state": {
              "outputs": [
                {
                  "output_type": "display_data",
                  "data": {
                    "text/plain": "<IPython.core.display.HTML object>",
                    "text/html": "<table border=\"1\" class=\"dataframe\">\n  <tbody>\n    <tr>\n      <td>-0.000006</td>\n    </tr>\n    <tr>\n      <td>0.000000</td>\n    </tr>\n  </tbody>\n</table>"
                  },
                  "metadata": {}
                }
              ],
              "layout": "IPY_MODEL_3adcd817152e4ec2b6f36c838f045b9e"
            }
          },
          "854df6a693a649aab366ab1f16756df9": {
            "model_name": "LayoutModel",
            "model_module": "@jupyter-widgets/base",
            "model_module_version": "2.0.0",
            "state": {
              "border_top": "0px",
              "border_right": "0px",
              "border_bottom": "0px",
              "border_left": "0px",
              "height": "auto",
              "margin": "0px",
              "padding": "0px",
              "width": "auto"
            }
          },
          "0be00c2a4ce74d9f86950e3a28dd3295": {
            "model_name": "HTMLMathStyleModel",
            "model_module": "@jupyter-widgets/controls",
            "model_module_version": "2.0.0",
            "state": {
              "description_width": ""
            }
          },
          "05a5adb4b770469985d427164d997cab": {
            "model_name": "HTMLMathModel",
            "model_module": "@jupyter-widgets/controls",
            "model_module_version": "2.0.0",
            "state": {
              "value": "<font size = '10'>x",
              "layout": "IPY_MODEL_854df6a693a649aab366ab1f16756df9",
              "style": "IPY_MODEL_0be00c2a4ce74d9f86950e3a28dd3295"
            }
          },
          "3e3efe93a36b4a0489e8f1cd92ffba6f": {
            "model_name": "LayoutModel",
            "model_module": "@jupyter-widgets/base",
            "model_module_version": "2.0.0",
            "state": {
              "border_top": "0px",
              "border_right": "0px",
              "border_bottom": "0px",
              "border_left": "0px",
              "height": "auto",
              "margin": "0px",
              "padding": "0px",
              "width": "auto"
            }
          },
          "6390bca99d894a16a3e16d15608c2d78": {
            "model_name": "HTMLMathStyleModel",
            "model_module": "@jupyter-widgets/controls",
            "model_module_version": "2.0.0",
            "state": {
              "description_width": ""
            }
          },
          "b7d5de3581e04f66af8cbf39ed4c9322": {
            "model_name": "HTMLMathModel",
            "model_module": "@jupyter-widgets/controls",
            "model_module_version": "2.0.0",
            "state": {
              "value": "<font size = '10'>=",
              "layout": "IPY_MODEL_3e3efe93a36b4a0489e8f1cd92ffba6f",
              "style": "IPY_MODEL_6390bca99d894a16a3e16d15608c2d78"
            }
          },
          "a725664db0b74d2fbe15f4fa3696c94c": {
            "model_name": "LayoutModel",
            "model_module": "@jupyter-widgets/base",
            "model_module_version": "2.0.0",
            "state": {
              "align_items": "center",
              "border_top": "0px",
              "border_right": "0px",
              "border_bottom": "0px",
              "border_left": "0px",
              "height": "100%",
              "justify_content": "space-between",
              "margin": "0px",
              "padding": "0px",
              "width": "100%"
            }
          },
          "ca7afa4eefa94dce90180ee8d5a34ba5": {
            "model_name": "HBoxModel",
            "model_module": "@jupyter-widgets/controls",
            "model_module_version": "2.0.0",
            "state": {
              "children": [
                "IPY_MODEL_b3ce7bd7f4ca4d67aecb875a674f6d5f",
                "IPY_MODEL_05a5adb4b770469985d427164d997cab",
                "IPY_MODEL_959e5a7e61a144c5ab0e116138517332",
                "IPY_MODEL_b7d5de3581e04f66af8cbf39ed4c9322",
                "IPY_MODEL_d7c9aa86f87b445da2427b0cff9783ee"
              ],
              "layout": "IPY_MODEL_a725664db0b74d2fbe15f4fa3696c94c"
            }
          },
          "24d7629da873478790b21ff0ce031bf5": {
            "model_name": "LayoutModel",
            "model_module": "@jupyter-widgets/base",
            "model_module_version": "2.0.0",
            "state": {
              "border_top": "0px",
              "border_right": "0px",
              "border_bottom": "0px",
              "border_left": "0px",
              "height": "300px",
              "justify_content": "space-around",
              "margin": "0px",
              "padding": "0px",
              "width": "100%"
            }
          },
          "2687484f744645478805af3118d1872e": {
            "model_name": "VBoxModel",
            "model_module": "@jupyter-widgets/controls",
            "model_module_version": "2.0.0",
            "state": {
              "children": [
                "IPY_MODEL_9b2f487d64734edf9d36b44a3a50f285"
              ],
              "layout": "IPY_MODEL_24d7629da873478790b21ff0ce031bf5"
            }
          },
          "f22aa75cc8d84e41ae0aa739719da8ca": {
            "model_name": "LayoutModel",
            "model_module": "@jupyter-widgets/base",
            "model_module_version": "2.0.0",
            "state": {
              "border_top": "0px",
              "border_right": "0px",
              "border_bottom": "0px",
              "border_left": "0px",
              "height": "300px",
              "justify_content": "space-around",
              "margin": "0px",
              "padding": "0px",
              "width": "100%"
            }
          },
          "85668a99c82e45848f9838455cfb6bb7": {
            "model_name": "VBoxModel",
            "model_module": "@jupyter-widgets/controls",
            "model_module_version": "2.0.0",
            "state": {
              "children": [
                "IPY_MODEL_0ccc93fa110e4169af8873a31e3f773e"
              ],
              "layout": "IPY_MODEL_f22aa75cc8d84e41ae0aa739719da8ca"
            }
          },
          "fe7ec755c42444f58e3a06efa5b777db": {
            "model_name": "LayoutModel",
            "model_module": "@jupyter-widgets/base",
            "model_module_version": "2.0.0",
            "state": {}
          },
          "0d5ff2190cb249f79ce09db2a1502a19": {
            "model_name": "VBoxModel",
            "model_module": "@jupyter-widgets/controls",
            "model_module_version": "2.0.0",
            "state": {
              "_dom_classes": [
                "widget-interact"
              ],
              "children": [
                "IPY_MODEL_426a0cea75b441a590d02245bda32f08",
                "IPY_MODEL_2b5da2f4423948b8b2d29b9424d65ef6"
              ],
              "layout": "IPY_MODEL_fe7ec755c42444f58e3a06efa5b777db"
            }
          },
          "6e1a8a573714420482cf9a9d8ef9c9c9": {
            "model_name": "LayoutModel",
            "model_module": "@jupyter-widgets/base",
            "model_module_version": "2.0.0",
            "state": {}
          },
          "2b5da2f4423948b8b2d29b9424d65ef6": {
            "model_name": "OutputModel",
            "model_module": "@jupyter-widgets/output",
            "model_module_version": "1.0.0",
            "state": {
              "layout": "IPY_MODEL_6e1a8a573714420482cf9a9d8ef9c9c9"
            }
          },
          "0df308d5346541ffacb30a5b004131ab": {
            "model_name": "LayoutModel",
            "model_module": "@jupyter-widgets/base",
            "model_module_version": "2.0.0",
            "state": {}
          },
          "e2f29d42343f499d9407c5b67a1549b5": {
            "model_name": "VBoxModel",
            "model_module": "@jupyter-widgets/controls",
            "model_module_version": "2.0.0",
            "state": {
              "_dom_classes": [
                "widget-interact"
              ],
              "children": [
                "IPY_MODEL_113b21db34aa4afaab9fbc67477d7655",
                "IPY_MODEL_31fd4c8c99514fdd9d178a483a0a0d7f"
              ],
              "layout": "IPY_MODEL_0df308d5346541ffacb30a5b004131ab"
            }
          },
          "724c60559d7e438bbb09db135e996dfa": {
            "model_name": "LayoutModel",
            "model_module": "@jupyter-widgets/base",
            "model_module_version": "2.0.0",
            "state": {}
          },
          "31fd4c8c99514fdd9d178a483a0a0d7f": {
            "model_name": "OutputModel",
            "model_module": "@jupyter-widgets/output",
            "model_module_version": "1.0.0",
            "state": {
              "layout": "IPY_MODEL_724c60559d7e438bbb09db135e996dfa"
            }
          },
          "e77ee5a8455347538211bbf7627ed70e": {
            "model_name": "LayoutModel",
            "model_module": "@jupyter-widgets/base",
            "model_module_version": "2.0.0",
            "state": {}
          },
          "50dfabd8cc3e4716b18027967770d6f4": {
            "model_name": "VBoxModel",
            "model_module": "@jupyter-widgets/controls",
            "model_module_version": "2.0.0",
            "state": {
              "_dom_classes": [
                "widget-interact"
              ],
              "children": [
                "IPY_MODEL_1de0f0ea0fc648c09a48d8b88c9a0049",
                "IPY_MODEL_8d69daf415c843c29599bce9fa6bc3f3"
              ],
              "layout": "IPY_MODEL_e77ee5a8455347538211bbf7627ed70e"
            }
          },
          "6aa07dec59d043c49d1758edbfb78b5d": {
            "model_name": "LayoutModel",
            "model_module": "@jupyter-widgets/base",
            "model_module_version": "2.0.0",
            "state": {}
          },
          "8d69daf415c843c29599bce9fa6bc3f3": {
            "model_name": "OutputModel",
            "model_module": "@jupyter-widgets/output",
            "model_module_version": "1.0.0",
            "state": {
              "layout": "IPY_MODEL_6aa07dec59d043c49d1758edbfb78b5d"
            }
          },
          "ed76ea93dfaa4c65a4b40202b4521f9a": {
            "model_name": "LayoutModel",
            "model_module": "@jupyter-widgets/base",
            "model_module_version": "2.0.0",
            "state": {}
          },
          "2f8e445136c24af89bbb1866d3d014b3": {
            "model_name": "VBoxModel",
            "model_module": "@jupyter-widgets/controls",
            "model_module_version": "2.0.0",
            "state": {
              "_dom_classes": [
                "widget-interact"
              ],
              "children": [
                "IPY_MODEL_0c1732efaeed40c99a20376d4352945c",
                "IPY_MODEL_c839f470dade498782f96df3b114e4fe"
              ],
              "layout": "IPY_MODEL_ed76ea93dfaa4c65a4b40202b4521f9a"
            }
          },
          "f13032381868470cbf6ec148980258eb": {
            "model_name": "LayoutModel",
            "model_module": "@jupyter-widgets/base",
            "model_module_version": "2.0.0",
            "state": {}
          },
          "c839f470dade498782f96df3b114e4fe": {
            "model_name": "OutputModel",
            "model_module": "@jupyter-widgets/output",
            "model_module_version": "1.0.0",
            "state": {
              "layout": "IPY_MODEL_f13032381868470cbf6ec148980258eb"
            }
          },
          "9890aa2ba1cb4cf3af9181bcf0314107": {
            "model_name": "LayoutModel",
            "model_module": "@jupyter-widgets/base",
            "model_module_version": "2.0.0",
            "state": {}
          },
          "4aef78ba18394d7f9fc02af035423089": {
            "model_name": "VBoxModel",
            "model_module": "@jupyter-widgets/controls",
            "model_module_version": "2.0.0",
            "state": {
              "_dom_classes": [
                "widget-interact"
              ],
              "children": [
                "IPY_MODEL_b6d81b6c86e6416da6d861cb38fb89e1",
                "IPY_MODEL_8f5f7d8bf0c44d73b75ccc217b40afec"
              ],
              "layout": "IPY_MODEL_9890aa2ba1cb4cf3af9181bcf0314107"
            }
          },
          "117caf0f7fd14340b4f7ea3120647980": {
            "model_name": "LayoutModel",
            "model_module": "@jupyter-widgets/base",
            "model_module_version": "2.0.0",
            "state": {}
          },
          "8f5f7d8bf0c44d73b75ccc217b40afec": {
            "model_name": "OutputModel",
            "model_module": "@jupyter-widgets/output",
            "model_module_version": "1.0.0",
            "state": {
              "layout": "IPY_MODEL_117caf0f7fd14340b4f7ea3120647980"
            }
          },
          "6b9d86659ae049f3a03bcac6363003ea": {
            "model_name": "LayoutModel",
            "model_module": "@jupyter-widgets/base",
            "model_module_version": "2.0.0",
            "state": {}
          },
          "aef9366e43a34f17befc0254e22c0b45": {
            "model_name": "VBoxModel",
            "model_module": "@jupyter-widgets/controls",
            "model_module_version": "2.0.0",
            "state": {
              "_dom_classes": [
                "widget-interact"
              ],
              "children": [
                "IPY_MODEL_a3692b4cf51a4cba9f3956135dffaf6d",
                "IPY_MODEL_cc86e06ec67546ea92019edfd0052d93"
              ],
              "layout": "IPY_MODEL_6b9d86659ae049f3a03bcac6363003ea"
            }
          },
          "7d09da3c2b5b4a2795c36eb5cd8d57e1": {
            "model_name": "LayoutModel",
            "model_module": "@jupyter-widgets/base",
            "model_module_version": "2.0.0",
            "state": {}
          },
          "cc86e06ec67546ea92019edfd0052d93": {
            "model_name": "OutputModel",
            "model_module": "@jupyter-widgets/output",
            "model_module_version": "1.0.0",
            "state": {
              "layout": "IPY_MODEL_7d09da3c2b5b4a2795c36eb5cd8d57e1"
            }
          },
          "7ca8a90c510c46f680550a4b40b1c600": {
            "model_name": "LayoutModel",
            "model_module": "@jupyter-widgets/base",
            "model_module_version": "2.0.0",
            "state": {}
          },
          "b5e1f3bb95fa4ea0817f41ac999352b2": {
            "model_name": "TooltipModel",
            "model_module": "bqplot",
            "model_module_version": "^0.5",
            "state": {
              "_model_module_version": "^0.5",
              "_view_module_version": "^0.5",
              "fields": [
                "x",
                "y"
              ],
              "formats": [
                ".2f",
                ".2f"
              ],
              "layout": "IPY_MODEL_7ca8a90c510c46f680550a4b40b1c600"
            }
          },
          "ee2d9bf5dc214d789cfc37e3dfc84d8d": {
            "model_name": "LayoutModel",
            "model_module": "@jupyter-widgets/base",
            "model_module_version": "2.0.0",
            "state": {}
          },
          "a6f5ec543f084f768c24a4d83c5173b4": {
            "model_name": "TooltipModel",
            "model_module": "bqplot",
            "model_module_version": "^0.5",
            "state": {
              "_model_module_version": "^0.5",
              "_view_module_version": "^0.5",
              "fields": [
                "x",
                "y"
              ],
              "formats": [
                ".2f",
                ".2f"
              ],
              "layout": "IPY_MODEL_ee2d9bf5dc214d789cfc37e3dfc84d8d"
            }
          }
        }
      }
    },
    "language_info": {
      "codemirror_mode": {
        "name": "python",
        "version": 3
      },
      "file_extension": ".py",
      "mimetype": "text/x-python",
      "name": "python",
      "nbconvert_exporter": "python",
      "pygments_lexer": "ipython3",
      "version": "3.8"
    },
    "kernelspec": {
      "name": "python",
      "display_name": "Python (Pyodide)",
      "language": "python"
    }
  },
  "nbformat_minor": 4,
  "nbformat": 4,
  "cells": [
    {
      "cell_type": "code",
      "source": "%pip install -q ipywidgets\n%pip install -q bqplot",
      "metadata": {
        "jupyter": {
          "source_hidden": true
        },
        "tags": [],
        "trusted": true
      },
      "execution_count": 1,
      "outputs": []
    },
    {
      "cell_type": "code",
      "source": "import ipywidgets as ipw\nimport bqplot as bqp\nimport pandas as pd\nimport numpy as np\nimport sympy as sp\nfrom bqplot import pyplot as plt\nfrom scipy import interpolate as numint\nfrom IPython.display import display, HTML\nfrom sympy.printing import latex\nfrom sympy import *",
      "metadata": {
        "jupyter": {
          "source_hidden": true
        },
        "tags": [],
        "trusted": true
      },
      "execution_count": 2,
      "outputs": []
    },
    {
      "cell_type": "code",
      "source": "%%html\n<div style=\"text-align: center; font-size: 100pt; width: 100%; color: black\">\n    <math xmlns=\"http://www.w3.org/1998/Math/MathML\">\n        <mrow>\n            <mo>&#8747;</mo>\n            <mspace width=\"0.3em\"/>\n            <mi>vs</mi>\n            <mspace width=\"0.3em\"/>\n            <mo>&#8721;</mo>\n        </mrow>\n    </math>\n</div>",
      "metadata": {
        "jupyter": {
          "source_hidden": true
        },
        "tags": [],
        "trusted": true
      },
      "execution_count": 3,
      "outputs": [
        {
          "output_type": "display_data",
          "data": {
            "text/plain": "<IPython.core.display.HTML object>",
            "text/html": "<div style=\"text-align: center; font-size: 100pt; width: 100%; color: black\">\n    <math xmlns=\"http://www.w3.org/1998/Math/MathML\">\n        <mrow>\n            <mo>&#8747;</mo>\n            <mspace width=\"0.3em\"/>\n            <mi>vs</mi>\n            <mspace width=\"0.3em\"/>\n            <mo>&#8721;</mo>\n        </mrow>\n    </math>\n</div>\n"
          },
          "metadata": {}
        }
      ]
    },
    {
      "cell_type": "code",
      "source": "margin1 = '0px 0px 10px 0px'\nwidth1  = '225px'\nHTML1 = ipw.HTML(\n        value  = f'<center><font face=\"Times New Roman\"><font size=\"5\">\\\n                 Parametros de calculo\\\n                 </font></font></center>',\n        layout = ipw.Layout(width = '250px', margin = margin1)\n) \nDropdown1 = ipw.Dropdown(\n            options = ['Elastico', 'Fijo'],\n            value = 'Fijo',\n            description = 'Apoyo 1',\n            layout = ipw.Layout(width = width1, margin = margin1)\n)\nDropdown2 = ipw.Dropdown(\n            options = ['Elastico', 'Fijo'],\n            value = 'Fijo',\n            description = 'Apoyo 2',\n            layout = ipw.Layout(width = width1, margin = margin1)\n)\nDropdown3 = ipw.Dropdown(\n            options = ['Cortantes', 'Momentos', 'Pendientes', 'Deflexiones'],\n            value = 'Cortantes',\n            description = 'Grafica de: ',\n            layout = ipw.Layout(width = '30%', height = 'auto', margin = '0px 30px 0px 0px')\n)\nBoundedFloatText1 = ipw.BoundedFloatText(\n                    value = 7850,\n                    min = 10,\n                    max = 10000,\n                    step = 10,\n                    description = 'D (kg/m3)',\n                    layout = ipw.Layout(width = width1, margin = margin1)\n)\nBoundedFloatText2 = ipw.BoundedFloatText(\n                    value = 50,\n                    min = 10,\n                    max = 10000,\n                    step = 0.005,\n                    description = 'Ø ext. (mm)',\n                    layout = ipw.Layout(width = width1, margin = margin1)\n)\nBoundedFloatText3 = ipw.BoundedFloatText(\n                    value = 0,\n                    min = 0,\n                    max = 10000,\n                    step = 0.005,\n                    description = 'Ø int. (mm)',\n                    layout = ipw.Layout(width = width1, margin = margin1)\n)\nBoundedFloatText4 = ipw.BoundedFloatText(\n                    value = 400,\n                    min = 10,\n                    max = 10000,\n                    step = 0.05,\n                    description = 'L (mm)',\n                    layout = ipw.Layout(width = width1, margin = margin1)\n)\nBoundedFloatText5 = ipw.BoundedIntText(\n                    value = 0,\n                    min = 0,\n                    max = 1000,\n                    step = 1,\n                    description = 'Elementos',\n                    layout = ipw.Layout(width = width1, margin = margin1)\n)\nFloatText2 = ipw.FloatText(\n             value = -1,\n             description = 'F (KN)',\n             layout = ipw.Layout(width = width1, margin = margin1)\n)\nFloatText3 = ipw.FloatText(\n             description = 'M (KN.m)',\n             layout = ipw.Layout(width = width1, margin = margin1)\n)\nFloatSlider3 = ipw.FloatSlider(\n               description = 'X',\n               min = 0,\n               max = BoundedFloatText4.value,\n               value = BoundedFloatText4.value / 2,\n               layout = ipw.Layout(margin = margin1)\n)\nCheckbox1 = ipw.Checkbox(\n            value = False,\n            description = 'Peso propio del eje',\n            layout = ipw.Layout(width = width1, margin = margin1),\n            indent = True\n)\nButton1 = ipw.Button(\n          description = 'Calcular',\n          button_style = 'success',\n          icon = 'gear',\n          layout = ipw.Layout(width = '20%', height = 'auto', margin = '0px 10px 0px 0px')\n)\nButton1.style.button_color = 'black'\nButton2 = ipw.Button(\n          description = 'Graficar',\n          button_style = 'success',\n          icon = 'pencil',\n          layout = ipw.Layout(width = '20%', height = 'auto', margin = '0px 10px 0px 0px')\n)\nButton2.style.button_color = 'black'\nButton3 = ipw.Button(\n          description = 'Enumerar',\n          button_style = 'success',\n          icon = 'eye',\n          layout = ipw.Layout(width = '20%', height = 'auto', margin = '0px 0px 0px 0px')\n)\nButton3.style.button_color = 'black'\n\ngrid1 = ipw.GridspecLayout(4, 3, layout = ipw.Layout(width = '100%', height = '120px', margin = '0px 0px 0px 0px', padding = '0px', border = '0px'))\nfor i in range(4):\n    for j in range(3):\n        grid1[i, j] = ipw.Text(layout = ipw.Layout(height = '5px', width = '265px'), disabled = True)\ngrid1[0, 1].value = 'Deflexiones (mm)'\ngrid1[0, 2].value = 'Velocidad Crítica (rpm)'\ngrid1[1, 0].value = 'Bernoulli'\ngrid1[2, 0].value = 'Timoshenko'\ngrid1[3, 0].value = '% de Error'\n\nscale_x2 = bqp.LinearScale()\nscale_y2 = bqp.LinearScale()\nLines1 = bqp.Lines(x = [], y = [],\n         scales = {'x': scale_x2, 'y': scale_y2,},\n         opacities = [1],\n         colors = ['black'],\n         stroke_width = 1.5,\n         line_style = 'solid'\n)\nLines2 = bqp.Lines(x = [], y = [],\n         scales = {'x': scale_x2, 'y': scale_y2,},\n         opacities = [1],\n         colors = ['black'],\n         stroke_width = 1.5,\n         line_style = 'dashed'\n)\nscale_x3 = bqp.LinearScale()\nscale_y3 = bqp.LinearScale()\nLines3 = bqp.Lines(x = [], y = [],\n         scales = {'x': scale_x3, 'y': scale_y3,},\n         opacities = [1],\n         colors = ['black'],\n         stroke_width = 2,\n         line_style = 'solid',\n         fill = 'inside',\n         fill_opacities = [0.3],\n         close_path = True,\n         marker = 'circle',\n         marker_size = 50\n)\nscale_x4 = bqp.LinearScale()\nscale_y4 = bqp.LinearScale()\nLines4 = bqp.Lines(x = [], y = [],\n         scales = {'x': scale_x4, 'y': scale_y4,},\n         opacities = [1],\n         colors = ['black'],\n         stroke_width = 2,\n         line_style = 'solid',\n         fill = 'inside',\n         fill_opacities = [0.3],\n         close_path = True\n)\nScatter1 = bqp.Scatter(x = [], y = [],\n                   scales = {'x': scale_x2, 'y': scale_y2,},\n                   opacities = [1],\n                   colors = ['black'],\n                   marker = 'triangle-up',\n                   default_size = 250\n)\nScatter2 = bqp.Scatter(x = [], y = [],\n                   scales = {'x': scale_x2, 'y': scale_y2,},\n                   opacities = [1],\n                   colors = ['black'],\n                   marker = 'square',\n                   default_size = 250\n)\nScatter3 = bqp.Scatter(x = [], y = [],\n                   scales = {'x': scale_x2, 'y': scale_y2,},\n                   opacities = [1],\n                   colors = ['black'],\n                   marker = 'triangle-down',\n                   default_size = 100\n)\nScatter4 = bqp.Scatter(x = [], y = [],\n                   scales = {'x': scale_x4, 'y': scale_y4,},\n                   opacities = [1],\n                   colors = ['black'],\n                   marker = 'circle',\n                   default_size = 50,\n                   unhovered_style = {'opacity': 0.5}\n)\n\nax_x2   = bqp.Axis(scale = scale_x2, label = 'Longitud (mm)', label_color = 'black', label_offset = '-2em', grid_lines = 'none', tick_format = '0.0f', tick_style = {'stroke': 'black'}, color = 'black')\nax_y2   = bqp.Axis(scale = scale_y2, label = 'Diametro (mm)', label_color = 'black', label_offset = '-2em', grid_lines = 'none', tick_format = '0.0f', tick_style = {'stroke': 'black'}, color = 'black', orientation = 'vertical')\nm_fig   = dict(left = 50, top = 20, bottom = 30, right = 30)\npanzoom = bqp.interacts.PanZoom(scales={'x': [scale_x2], 'y': [scale_y2]})\nfig3    = plt.figure(interaction = panzoom, title = 'Esquema del eje a analizar', title_style = {'font-size': '15px','fill': 'black'}, marks = [Lines1, Lines2, Scatter1, Scatter2, Scatter3], axes = [ax_x2, ax_y2], fig_margin = m_fig, layout=ipw.Layout(width = 'auto', height = '65%'))\n\nax_x3   = bqp.Axis(scale = scale_x3, label = 'Longitud (mm)', label_color = 'black', label_offset = '-1em', grid_lines = 'dashed', tick_format = '0.0f', tick_style = {'stroke': 'black'}, color = 'black')\nax_y3   = bqp.Axis(scale = scale_y3, label = 'Resultado', label_color = 'black', label_offset = '-1em', grid_lines = 'dashed', tick_format = '0.0f', tick_style = {'stroke': 'black'}, color = 'black', orientation = 'vertical')\nm_fig   = dict(left = 50, top = 20, bottom = 30, right = 30)\nfig4    = plt.figure(marks = [Lines3], axes = [ax_x3, ax_y3], fig_margin = m_fig, layout=ipw.Layout(width = 'auto', height = '100%'))\n\nax_x4   = bqp.Axis(scale = scale_x4, label = 'Longitud (mm)', label_color = 'black', label_offset = '-1em', grid_lines = 'dashed', tick_format = '0.0f', tick_style = {'stroke': 'black'}, color = 'black')\nax_y4   = bqp.Axis(scale = scale_y4, label = 'Resultado', label_color = 'black', label_offset = '-1em', grid_lines = 'dashed', tick_format = '0.0f', tick_style = {'stroke': 'black'}, color = 'black', orientation = 'vertical')\nm_fig   = dict(left = 50, top = 20, bottom = 30, right = 30)\nfig5    = plt.figure(marks = [Lines4, Scatter4], axes = [ax_x4, ax_y4], fig_margin = m_fig, layout=ipw.Layout(width = 'auto', height = '100%'))\n\nHBox3 = ipw.HBox([Button1, Dropdown3, Button2, Button3], \n        layout = ipw.Layout(justify_content = 'space-around', width = 'auto', height = 'auto', margin = '0px', padding = '0px', border = '0px'))\nVBox4 = ipw.VBox([HBox3, fig3, grid1], \n        layout = ipw.Layout(justify_content = 'space-around', width = 'auto', height = 'auto', margin = '0px', padding = '0px', border = '0px'))\nVBox2 = ipw.VBox([HTML1, BoundedFloatText1, BoundedFloatText2, BoundedFloatText3, BoundedFloatText4, FloatText2, FloatText3, Dropdown1, Dropdown2, BoundedFloatText5, Checkbox1, FloatSlider3], \n        layout = ipw.Layout(justify_content = 'flex-start', width = 'auto', height = 'auto', margin = '0px', padding = '0px', border = '0px'))\nHBox2 = ipw.HBox([VBox2, VBox4], layout = ipw.Layout(justify_content = 'space-around', width = '100%', height = '100%', margin = '0px', padding = '0px', border = '0px'))\ndisplay(HBox2)",
      "metadata": {
        "jupyter": {
          "source_hidden": true
        },
        "tags": [],
        "trusted": true
      },
      "execution_count": 4,
      "outputs": [
        {
          "output_type": "display_data",
          "data": {
            "text/plain": "HBox(children=(VBox(children=(HTML(value='<center><font face=\"Times New Roman\"><font size=\"5\">                …",
            "application/vnd.jupyter.widget-view+json": {
              "version_major": 2,
              "version_minor": 0,
              "model_id": "587a6862ac704c1ebb56f69a0cca642e"
            }
          },
          "metadata": {}
        }
      ]
    },
    {
      "cell_type": "code",
      "source": "%%html\n<div style=\"text-align: center;\">\n    <h1 style=\"font-size: 50pt; color: black;\"><b>Solución Analítica</b></h1>\n</div>",
      "metadata": {
        "jupyter": {
          "source_hidden": true
        },
        "tags": [],
        "trusted": true
      },
      "execution_count": 5,
      "outputs": [
        {
          "output_type": "display_data",
          "data": {
            "text/plain": "<IPython.core.display.HTML object>",
            "text/html": "<div style=\"text-align: center;\">\n    <h1 style=\"font-size: 50pt; color: black;\"><b>Solución Analítica</b></h1>\n</div>\n"
          },
          "metadata": {}
        }
      ]
    },
    {
      "cell_type": "code",
      "source": "HTML2      = ipw.HTML(value = '<div style=\"border-bottom: 1.5px solid #000;\"></div>')\nHTMLMath16 = ipw.HTMLMath(\n    layout = ipw.Layout(margin = '0px', padding = '0px', border = '0px')\n)\nHTMLMath17 = ipw.HTMLMath(\n    layout = ipw.Layout(margin = '0px', padding = '0px', border = '0px')\n)\nHTMLMath18 = ipw.HTMLMath(\n    layout = ipw.Layout(margin = '0px', padding = '0px', border = '0px')\n)\nHTMLMath19 = ipw.HTMLMath(\n    layout = ipw.Layout(margin = '0px', padding = '0px', border = '0px')\n)\nHTMLMath20 = ipw.HTMLMath(\n    layout = ipw.Layout(margin = '0px', padding = '0px', border = '0px')\n)\nHTMLMath21 = ipw.HTMLMath(\n    layout = ipw.Layout(margin = '0px', padding = '0px', border = '0px')\n)\nHTMLMath27 = ipw.HTMLMath(\n    layout = ipw.Layout(margin = '0px', padding = '0px', border = '0px')\n)\nHTMLMath28 = ipw.HTMLMath(\n    layout = ipw.Layout(margin = '0px', padding = '0px', border = '0px')\n)\nHTMLMath29 = ipw.HTMLMath(\n    layout = ipw.Layout(margin = '0px', padding = '0px', border = '0px')\n)\nHTMLMath30 = ipw.HTMLMath(\n    layout = ipw.Layout(margin = '0px', padding = '0px', border = '0px')\n)\nVBox5 = ipw.VBox([HTML2, ipw.HTMLMath(r\"<font size = '3', font color = 'black', font face = 'Times New Roman'>Ecuacion de cortantes:\"), HTMLMath27,\n                  HTML2, ipw.HTMLMath(r\"<font size = '3', font color = 'black', font face = 'Times New Roman'>Ecuacion de momentos:\"), HTMLMath16, \n                  HTML2, ipw.HTMLMath(r\"<font size = '3', font color = 'black', font face = 'Times New Roman'>Ecuacion de pendientes:\"), HTMLMath28,\n                  HTML2, ipw.HTMLMath(r\"<font size = '3', font color = 'black', font face = 'Times New Roman'>Ecuacion de deflexiones:\"), HTMLMath17, \n                  HTML2, ipw.HTMLMath(r\"<font size = '3', font color = 'black', font face = 'Times New Roman'>Sistema de ecuaciones:\"), HTMLMath18, \n                  HTML2, ipw.HTMLMath(r\"<font size = '3', font color = 'black', font face = 'Times New Roman'>Resultados:\"), HTMLMath19, \n                  HTML2, ipw.HTMLMath(r\"<font size = '3', font color = 'black', font face = 'Times New Roman'>Ecuacion de deflexiones:\"), HTMLMath20, \n                  HTML2, ipw.HTMLMath(r\"<font size = '3', font color = 'black', font face = 'Times New Roman'>Ecuacion de pendientes:\"), HTMLMath29,\n                  HTML2, ipw.HTMLMath(r\"<font size = '3', font color = 'black', font face = 'Times New Roman'>Ecuacion de momentos:\"), HTMLMath21,\n                  HTML2, ipw.HTMLMath(r\"<font size = '3', font color = 'black', font face = 'Times New Roman'>Ecuacion de cortantes:\"), HTMLMath30, HTML2], \n                  layout = ipw.Layout(justify_content = 'space-around', width = '100%', height = 'auto', margin = '0px', padding = '0px', border = '0px'))\ndisplay(VBox5)",
      "metadata": {
        "jupyter": {
          "source_hidden": true
        },
        "tags": [],
        "trusted": true
      },
      "execution_count": 6,
      "outputs": [
        {
          "output_type": "display_data",
          "data": {
            "text/plain": "VBox(children=(HTML(value='<div style=\"border-bottom: 1.5px solid #000;\"></div>'), HTMLMath(value=\"<font size …",
            "application/vnd.jupyter.widget-view+json": {
              "version_major": 2,
              "version_minor": 0,
              "model_id": "999644c7604247178d4bc74160a27a9a"
            }
          },
          "metadata": {}
        }
      ]
    },
    {
      "cell_type": "code",
      "source": "%%html\n<div style=\"text-align: center;\">\n    <h1 style=\"font-size: 50pt; color: black;\"><b>Solución Numérica</b></h1>\n</div>",
      "metadata": {
        "jupyter": {
          "source_hidden": true
        },
        "tags": [],
        "trusted": true
      },
      "execution_count": 7,
      "outputs": [
        {
          "output_type": "display_data",
          "data": {
            "text/plain": "<IPython.core.display.HTML object>",
            "text/html": "<div style=\"text-align: center;\">\n    <h1 style=\"font-size: 50pt; color: black;\"><b>Solución Numérica</b></h1>\n</div>\n"
          },
          "metadata": {}
        }
      ]
    },
    {
      "cell_type": "code",
      "source": "Output1 = ipw.Output(\n          layout = ipw.Layout(width = '60%', height = 'auto')\n)\nOutput2 = ipw.Output(\n          layout = ipw.Layout(width = 'auto', height = 'auto')\n)\nOutput3 = ipw.Output(\n          layout = ipw.Layout(width = 'auto', height = 'auto')\n)\nHTMLMath25 = ipw.HTMLMath(\n             value = r\"<font size = '10'>x\",\n             layout = ipw.Layout(width = 'auto', height = 'auto', margin = '0px', padding = '0px', border = '0px')\n)\nHTMLMath26 = ipw.HTMLMath(\n             value = r\"<font size = '10'>=\",\n             layout = ipw.Layout(width = 'auto', height = 'auto', margin = '0px', padding = '0px', border = '0px')\n)\nHBox4 = ipw.HBox([Output1, HTMLMath25, Output2, HTMLMath26, Output3], \n        layout = ipw.Layout(justify_content = 'space-between', align_items = 'center', width = '100%', height = '100%', margin = '0px', padding = '0px', border = '0px'))\ndisplay(HBox4)",
      "metadata": {
        "jupyter": {
          "source_hidden": true
        },
        "tags": [],
        "trusted": true
      },
      "execution_count": 8,
      "outputs": [
        {
          "output_type": "display_data",
          "data": {
            "text/plain": "HBox(children=(Output(layout=Layout(height='auto', width='60%')), HTMLMath(value=\"<font size = '10'>x\", layout…",
            "application/vnd.jupyter.widget-view+json": {
              "version_major": 2,
              "version_minor": 0,
              "model_id": "ca7afa4eefa94dce90180ee8d5a34ba5"
            }
          },
          "metadata": {}
        }
      ]
    },
    {
      "cell_type": "code",
      "source": "%%html\n<div style=\"text-align: center;\">\n    <h1 style=\"font-size: 50pt; color: black;\"><b>Gráfica Analítica</b></h1>\n</div>",
      "metadata": {
        "jupyter": {
          "source_hidden": true
        },
        "tags": [],
        "trusted": true
      },
      "execution_count": 9,
      "outputs": [
        {
          "output_type": "display_data",
          "data": {
            "text/plain": "<IPython.core.display.HTML object>",
            "text/html": "<div style=\"text-align: center;\">\n    <h1 style=\"font-size: 50pt; color: black;\"><b>Gráfica Analítica</b></h1>\n</div>\n"
          },
          "metadata": {}
        }
      ]
    },
    {
      "cell_type": "code",
      "source": "VBox3 = ipw.VBox([fig4], \n        layout = ipw.Layout(justify_content = 'space-around', width = '100%', height = '300px', margin = '0px', padding = '0px', border = '0px'))\ndisplay(VBox3)",
      "metadata": {
        "jupyter": {
          "source_hidden": true
        },
        "tags": [],
        "trusted": true
      },
      "execution_count": 10,
      "outputs": [
        {
          "output_type": "display_data",
          "data": {
            "text/plain": "VBox(children=(Figure(axes=[Axis(color='black', grid_lines='dashed', label='Longitud (mm)', label_color='black…",
            "application/vnd.jupyter.widget-view+json": {
              "version_major": 2,
              "version_minor": 0,
              "model_id": "2687484f744645478805af3118d1872e"
            }
          },
          "metadata": {}
        }
      ]
    },
    {
      "cell_type": "code",
      "source": "%%html\n<div style=\"text-align: center;\">\n    <h1 style=\"font-size: 50pt; color: black;\"><b>Gráfica Numérica</b></h1>\n</div>",
      "metadata": {
        "jupyter": {
          "source_hidden": true
        },
        "tags": [],
        "trusted": true
      },
      "execution_count": 11,
      "outputs": [
        {
          "output_type": "display_data",
          "data": {
            "text/plain": "<IPython.core.display.HTML object>",
            "text/html": "<div style=\"text-align: center;\">\n    <h1 style=\"font-size: 50pt; color: black;\"><b>Gráfica Numérica</b></h1>\n</div>\n"
          },
          "metadata": {}
        }
      ]
    },
    {
      "cell_type": "code",
      "source": "VBox4 = ipw.VBox([fig5], \n        layout = ipw.Layout(justify_content = 'space-around', width = '100%', height = '300px', margin = '0px', padding = '0px', border = '0px'))\ndisplay(VBox4)",
      "metadata": {
        "jupyter": {
          "source_hidden": true
        },
        "tags": [],
        "trusted": true
      },
      "execution_count": 12,
      "outputs": [
        {
          "output_type": "display_data",
          "data": {
            "text/plain": "VBox(children=(Figure(axes=[Axis(color='black', grid_lines='dashed', label='Longitud (mm)', label_color='black…",
            "application/vnd.jupyter.widget-view+json": {
              "version_major": 2,
              "version_minor": 0,
              "model_id": "85668a99c82e45848f9838455cfb6bb7"
            }
          },
          "metadata": {}
        }
      ]
    },
    {
      "cell_type": "code",
      "source": "def round_expr(expr, num_digits):\n    return expr.xreplace({n : round(n, num_digits) for n in expr.atoms(Number)})\n\ndef count_elems(valor):\n    if 'NDom' in globals():\n        if Scatter4.names == None:\n            Scatter4.names = np.arange(1, len(NDom) + 1)\nButton3.on_click(count_elems)\n\ndef draw_shaft(DE, DI, L, AI, AD, FS3):\n    Lines1.x = np.array([[-L / 2, L / 2, L / 2, -L / 2, -L / 2], [FS3 - L / 2, FS3 - L / 2]], dtype = 'object')\n    Lines1.y = np.array([[-DE / 2, -DE / 2, DE / 2, DE / 2, -DE / 2], [DE / 2, DE]], dtype = 'object')\n    Lines2.x = np.array([-L / 2, L / 2, L / 2, -L / 2, -L / 2])\n    Lines2.y = np.array([-DI / 2, -DI / 2, DI / 2, DI / 2, -DI / 2]) \n    Scatter1.x = [-L / 2]\n    Scatter1.y = [-DE / 2]\n    Scatter2.x = [L / 2]\n    Scatter2.y = [-DE / 2]\n    Scatter3.x = [FS3 - L / 2]\n    Scatter3.y = [DE / 2]\n    if AI == 'Elastico':\n        Scatter1.marker = 'triangle-up'\n    else:\n        Scatter1.marker = 'square'\n    if AD == 'Elastico':\n        Scatter2.marker = 'triangle-up'\n    else:\n        Scatter2.marker = 'square'\n\ndef upd_diamay(valor):\n    draw_shaft(valor, BoundedFloatText3.value, BoundedFloatText4.value, Dropdown1.value, Dropdown2.value, FloatSlider3.value)\nf_upd_diamay = ipw.interactive(upd_diamay, valor = BoundedFloatText2)\n\ndef upd_diamen(valor):\n    draw_shaft(BoundedFloatText2.value, valor, BoundedFloatText4.value, Dropdown1.value, Dropdown2.value, FloatSlider3.value)\nf_upd_diamen = ipw.interactive(upd_diamen, valor = BoundedFloatText3)\n\ndef upd_longit(valor):\n    draw_shaft(BoundedFloatText2.value, BoundedFloatText3.value, valor, Dropdown1.value, Dropdown2.value, FloatSlider3.value)\n    FloatSlider3.max = valor\nf_upd_longit = ipw.interactive(upd_longit, valor = BoundedFloatText4)\n\ndef upd_lefapo(valor):\n    draw_shaft(BoundedFloatText2.value, BoundedFloatText3.value, BoundedFloatText4.value, valor, Dropdown2.value, FloatSlider3.value)\nf_upd_lefapo = ipw.interactive(upd_lefapo, valor = Dropdown1)\n\ndef upd_rigapo(valor):\n    draw_shaft(BoundedFloatText2.value, BoundedFloatText3.value, BoundedFloatText4.value, Dropdown1.value, valor, FloatSlider3.value)\nf_upd_rigapo = ipw.interactive(upd_rigapo, valor = Dropdown2)\n\ndef move_arrow(valor):\n    draw_shaft(BoundedFloatText2.value, BoundedFloatText3.value, BoundedFloatText4.value, Dropdown1.value, Dropdown2.value, valor)\nf_move_arrow = ipw.interactive(move_arrow, valor = FloatSlider3)\n\ndef num_calc(L, E, I, G):\n    L = L\n    E = E\n    I = I\n    G = G\n    Nod_Tot = np.concatenate((np.array([0]), np.cumsum(L[0:2])))\n    Nod_Ini = Nod_Tot[0:2]\n    Nod_Fin = Nod_Tot[1:3]\n    A   = (np.pi / 4) * ((BoundedFloatText2.value / 1000) ** 2 - (BoundedFloatText3.value / 1000) ** 2)       \n    m   = np.repeat(BoundedFloatText3.value / BoundedFloatText2.value, 2)\n    k   = (6 * (1 + m ** 2) ** 2) / (7 * (1 + m ** 2) ** 2 + 20 * m ** 2)\n    p   = (12 * E * I) / (k * A * G * L ** 2)\n    N_E = np.repeat(BoundedFloatText5.value + 1, 2)\n    L_L = (Nod_Fin - Nod_Ini) / N_E\n    I_I = np.repeat(I, 2)\n    P_P = np.repeat(p, 2)\n    E_E = np.repeat(E, 2)\n    L1  = [np.zeros((1, N_E[0]))[0], np.zeros((1, N_E[1]))[0]]\n    I1  = [np.zeros((1, N_E[0]))[0], np.zeros((1, N_E[1]))[0]]\n    E1  = [np.zeros((1, N_E[0]))[0], np.zeros((1, N_E[1]))[0]]\n    phi1 = [np.zeros((1, N_E[0]))[0], np.zeros((1, N_E[1]))[0]]\n    for i in range(2):\n        L1[i] = np.repeat(L_L[i], N_E[i])\n        I1[i] = np.repeat(I_I[i], N_E[i])\n        E1[i] = np.repeat(E_E[i], N_E[i])\n        phi1[i] = np.repeat(P_P[i], N_E[i])\n    L1   = np.concatenate((L1[0], L1[1]))\n    I1   = np.concatenate((I1[0], I1[1]))\n    E1   = np.concatenate((E1[0], E1[1]))\n    phi1 = np.concatenate((phi1[0], phi1[1]))\n    MG   = np.zeros((sum(N_E), 2 * (sum(N_E) + 1), 2 * (sum(N_E) + 1)))\n    ML   = np.zeros((sum(N_E), 4, 4))\n    for i in range(sum(N_E)):\n        ML[i, :, :] = (E1[i] / L1[i] ** 3) * (I1[i] / (1 + phi1[i])) * np.array([\n                      [12, 6 * L1[i], -12, 6 * L1[i]],\n                      [6 * L1[i], (4 + phi1[i]) * L1[i] ** 2, -6 * L1[i], (2 - phi1[i]) * L1[i] ** 2],\n                      [-12, -6 * L1[i], 12, -6 * L1[i]],\n                      [6 * L1[i], (2 - phi1[i]) * L1[i] ** 2, -6 * L1[i], (4 + phi1[i]) * L1[i] ** 2]])\n        MG[i, np.array([2 * i, 2 * i + 1, 2 * i + 2, 2 * i + 3])[:,np.newaxis], np.array([2 * i, 2 * i + 1, 2 * i + 2, 2 * i + 3])[np.newaxis,:]] = ML[i, :, :]\n    MG = np.sum(MG, axis = 0)\n\n    FCT = np.arange(0, (3 + 2 * BoundedFloatText5.value) * 2)\n    FCE = np.array([0, (2 + 2 * BoundedFloatText5.value) * 2])\n    if Dropdown1.value == 'Fijo':\n        FCE = np.concatenate((FCE, np.array([1])))\n    if Dropdown2.value == 'Fijo':\n        FCE = np.concatenate((FCE, np.array([(2 + 2 * BoundedFloatText5.value) * 2 + 1])))\n    FCS = np.setdiff1d(FCT, FCE)\n    MRA = MG[FCS[:,np.newaxis], FCS[np.newaxis,:]]\n    if Checkbox1.value == True:\n        FDN = - (((np.pi / 4) * ((BoundedFloatText2.value / 1000) ** 2 - (BoundedFloatText3.value / 1000) ** 2)) * (BoundedFloatText4.value / 1000) * BoundedFloatText1.value * 9.81) / (3 + 2 * BoundedFloatText5.value)\n    else:\n        FDN = 0\n    MFD = np.repeat(FDN, 3 + 2 * BoundedFloatText5.value).reshape((3 + 2 * BoundedFloatText5.value, 1))\n    MDF = np.zeros((3 + 2 * BoundedFloatText5.value, 1))\n    MDF[1 + BoundedFloatText5.value] = FloatText2.value * 1000\n    MDF = MDF + MFD\n    MDM = np.zeros((3 + 2 * BoundedFloatText5.value, 1))\n    MDM[1 + BoundedFloatText5.value] = FloatText3.value * 1000\n    MFM = np.hstack((MDF, MDM)).reshape((len(MFD) * 2, 1))\n    MRB = MFM[FCS]\n    MRX = np.linalg.solve(MRA, MRB)\n    MPD = np.zeros(((3 + 2 * BoundedFloatText5.value) * 2, 1))\n    MPD[FCS] = MRX\n    MFM = np.dot(MG, MPD)\n    FC = np.array([])\n    MF = np.array([])\n    for i in range(sum(N_E)):\n        MLR = np.dot(ML[i], MPD[(2 * i):(2 * i + 4)])\n        FC = np.concatenate((FC, MLR[0], MLR[2]))\n        MF = np.concatenate((MF, MLR[1], MLR[3]))\n    RD = MPD[range(0, len(MPD), 2)]\n    RP = MPD[range(1, len(MPD), 2)]\n    Dom = np.unique(np.concatenate((np.linspace(0, FloatSlider3.value, BoundedFloatText5.value + 2), np.linspace(FloatSlider3.value, BoundedFloatText4.value, BoundedFloatText5.value + 2))))\n    return RD, RP, MF, FC, MRA, MRB, MRX, Dom\n        \ndef sym_calc(L, EI, AE, AF, F, M, D):\n    Lon_Tra = L\n    Ine_You = EI\n    Apo_Ela = AE\n    Apo_Fij = AF\n    Fue_Nod = F\n    Mom_Nod = M\n    Fue_Dis = D\n\n    Nod_Tot = np.concatenate((np.array([0]), np.cumsum(Lon_Tra[0:2])))\n    Nod_Ini = Nod_Tot[0:2]\n    Nod_Fin = Nod_Tot[1:3]\n    Apo_Tot = Apo_Ela + Apo_Fij\n\n    nvr = ''\n    for i in range(1,np.shape(np.nonzero(Apo_Tot))[1] + 1):\n            var = ' r' + str(i)\n            nvr = nvr + var\n    Cons_0  = sp.var(nvr)\n    Rea_Fue = np.array([0, 0 ,0], dtype = object)\n    Rea_Fue[Apo_Tot > 0] = Cons_0\n    Fue_Nod = Fue_Nod + Rea_Fue\n\n    if sum(Apo_Fij) != 0:\n        nvr = ''\n        for i in range(1,np.shape(np.nonzero(Apo_Fij))[1] + 1):\n                var = ' m' + str(i)\n                nvr = nvr + var\n        Cons_1  = sp.var(nvr)\n        Rea_Mom = np.array([0, 0 ,0], dtype = object)\n        Rea_Mom[Apo_Fij > 0] = Cons_1\n        Mom_Nod = Mom_Nod + Rea_Mom\n\n    x = sp.var('x'); x1 = sp.var('x1'); x2 = sp.var('x2')\n    Com_Fue = np.array([0, 0], dtype = object)\n    Com_Dis = np.array([0, 0], dtype = object)\n    for i in range(2):\n        Com_Fue[i] = sum(Fue_Nod[0:i + 1])\n        Com_Dis[i] = Fue_Dis[i] * (x - Nod_Ini[i])\n    Fue_Equ = Fue_Dis * (Nod_Fin - Nod_Ini)\n    Fue_Equ = np.concatenate((np.array([0]), np.cumsum(Fue_Equ[0:1])))\n\n    Ecu_Cor = np.array([0, 0], dtype = object)\n    for i in range(2):\n        Ecu_Cor[i] = Com_Fue[i] + Com_Dis[i] + Fue_Equ[i]\n    \n    x1 = 0\n    Ecu_Mom = np.array([0, 0], dtype = object)\n    for i in range(2):\n        Ecu_1      = sp.integrate(Ecu_Cor[i], x) + x2 + Mom_Nod[i] - x1\n        Ecu_1      = Ecu_1.subs(x, Nod_Ini[i])\n        Ecu_2      = sp.integrate(Ecu_Cor[i], x) + np.array(solve(Ecu_1, x2))[0]\n        Ecu_Mom[i] = Ecu_2\n        x1         = Ecu_2.subs(x, Nod_Fin[i])      \n    Sis_Fue = sum(Fue_Nod) + sum(Fue_Dis * (Nod_Fin - Nod_Ini))\n    Sis_Mom = sum(Mom_Nod) + sum(Nod_Fin * Fue_Nod[1:]) + sum((Fue_Dis * (Nod_Fin - Nod_Ini)) * ((Nod_Fin + Nod_Ini) / 2))\n\n    Ecu_Pen = np.array([0, 0], dtype = object)\n    Ecu_Def = np.array([0, 0], dtype = object)\n    for i in range(2):\n        Ecu_Pen[i] = sp.integrate(Ecu_Mom[i], x) + sp.var('c' + str(2 * (i + 1) - 1))\n        Ecu_Def[i] = sp.integrate(Ecu_Pen[i], x) + sp.var('c' + str(2 * (i + 1)))\n    \n    if FloatSlider3.value <= BoundedFloatText4.value / 2:\n        Sho_Cor = Ecu_Cor[0]\n        Sho_Mom = Ecu_Mom[0] \n        Sho_Pen = Ecu_Pen[0]\n        Sho_Def = Ecu_Def[0]\n    else:\n        Sho_Cor = Ecu_Cor[1]\n        Sho_Mom = Ecu_Mom[1] \n        Sho_Pen = Ecu_Pen[1]\n        Sho_Def = Ecu_Def[1]\n    \n    Sis_Pen = Ecu_Pen[1].subs(x, Nod_Fin[0]) / Ine_You - Ecu_Pen[0].subs(x, Nod_Fin[0]) / Ine_You\n    Sis_Def = Ecu_Def[1].subs(x, Nod_Fin[0]) / Ine_You - Ecu_Def[0].subs(x, Nod_Fin[0]) / Ine_You\n\n    Sis_Nod = np.array([0, 0], dtype = object)\n    Sis_Nod[0] = Ecu_Def[0].subs(x, Nod_Tot[0])\n    Sis_Nod[1] = Ecu_Def[1].subs(x, Nod_Tot[2])\n    if sum(Apo_Fij) != 0: \n        Sis_Nop = np.zeros((1, np.count_nonzero(Apo_Fij)), dtype = object)[0]\n        j = -1\n        for i in range(3):\n            if Apo_Fij[i] != 0:\n                j = j + 1\n                if Apo_Fij[i] == 1:\n                    Sis_Nop[j] = Ecu_Pen[0].subs(x, Nod_Tot[i])\n                elif Apo_Fij[i] == 3:\n                    Sis_Nop[j] = Ecu_Pen[1].subs(x, Nod_Tot[i])\n        if len(Sis_Nop) == 1:\n            Sis_Ecu = (Sis_Fue, Sis_Mom, Sis_Pen, Sis_Def, Sis_Nod[0], Sis_Nod[1], Sis_Nop[0])\n        else:\n            Sis_Ecu = (Sis_Fue, Sis_Mom, Sis_Pen, Sis_Def, Sis_Nod[0], Sis_Nod[1], Sis_Nop[0], Sis_Nop[1])\n    else:\n        Sis_Ecu = (Sis_Fue, Sis_Mom, Sis_Pen, Sis_Def, Sis_Nod[0], Sis_Nod[1])\n    rpts = sp.solve(Sis_Ecu)\n\n    for i in range(2):\n        Ecu_Def[i] = Ecu_Def[i].subs(c1, rpts[c1])\n        Ecu_Def[i] = Ecu_Def[i].subs(c2, rpts[c2])\n        Ecu_Def[i] = Ecu_Def[i].subs(c3, rpts[c3])\n        Ecu_Def[i] = Ecu_Def[i].subs(c4, rpts[c4])\n        Ecu_Def[i] = Ecu_Def[i].subs(r1, rpts[r1])\n        if sum(Apo_Fij) != 0: \n            Ecu_Def[i] = Ecu_Def[i].subs(m1, rpts[m1])\n\n    Ecu_Def = Ecu_Def / Ine_You\n    for i in range(2):\n        Ecu_Pen[i] = sp.diff(Ecu_Def[i], x)\n        Ecu_Mom[i] = sp.diff(Ecu_Pen[i], x) * Ine_You\n        Ecu_Cor[i] = sp.diff(Ecu_Mom[i], x)\n\n    Dom = np.array([np.linspace(Nod_Tot[0], Nod_Tot[1], 50), np.linspace(Nod_Tot[1], Nod_Tot[2], 50)])\n    Val_Def = np.array([])\n    Val_Pen = np.array([])\n    Val_Mom = np.array([])\n    Val_Cor = np.array([])\n    for i in range(2):\n        flamb = lambdify(x, Ecu_Def[i], \"numpy\")\n        Val_Def = np.append(Val_Def, flamb(Dom[i]))\n        flamb = lambdify(x, Ecu_Pen[i], \"numpy\")\n        Val_Pen = np.append(Val_Pen, flamb(Dom[i]))\n        flamb = lambdify(x, Ecu_Mom[i], \"numpy\")\n        Val_Mom = np.append(Val_Mom, flamb(Dom[i]))\n        flamb = lambdify(x, Ecu_Cor[i], \"numpy\")\n        Val_Cor = np.append(Val_Cor, flamb(Dom[i]))\n    Dom = Dom.reshape(100,) * 1000\n    \n    if FloatSlider3.value <= BoundedFloatText4.value / 2:\n        Hid_Cor = Ecu_Cor[0]\n        Hid_Mom = Ecu_Mom[0] \n        Hid_Pen = Ecu_Pen[0]\n        Hid_Def = Ecu_Def[0]\n    else:\n        Hid_Cor = Ecu_Cor[1]\n        Hid_Mom = Ecu_Mom[1] \n        Hid_Pen = Ecu_Pen[1]\n        Hid_Def = Ecu_Def[1]\n    \n    return Val_Def, Val_Pen, Val_Mom, Val_Cor, Sho_Cor, Sho_Mom, Sho_Pen, Sho_Def, Sis_Ecu, rpts, Hid_Def, Hid_Pen, Hid_Mom, Hid_Cor, Dom\n\ndef shaft_calc(valor):\n    global Sim_Def, Sim_Pen, Sim_Mom, Sim_Cor, Dom, Num_Def, Num_Pen, Num_Mom, Num_Cor, NDom, Fun_Def\n    L = np.array([FloatSlider3.value / 1000, (BoundedFloatText4.value - FloatSlider3.value) / 1000])\n    EI = 207e9 * ((np.pi / 64) * ((BoundedFloatText2.value / 1000) ** 4 - (BoundedFloatText3.value / 1000) ** 4))\n    AE = np.array([0, 0, 0])\n    AF = np.array([0, 0, 0])\n    if Dropdown1.value == 'Elastico':\n        AE[0] = 1\n    else:\n        AF[0] = 1\n    if Dropdown2.value == 'Elastico':\n        AE[2] = 3\n    else:\n        AF[2] = 3\n    F = np.array([0, FloatText2.value * 1000, 0])\n    M = np.array([0, FloatText3.value * 1000, 0])\n    if Checkbox1.value == True:\n        D = ((np.pi / 4) * ((BoundedFloatText2.value / 1000) ** 2 - (BoundedFloatText3.value / 1000) ** 2)) * BoundedFloatText1.value * 9.81\n        D = np.array([-D, -D])\n    else:\n        D = np.array([0, 0])\n    Sim_Def, Sim_Pen, Sim_Mom, Sim_Cor, Sho_Cor, Sho_Mom, Sho_Pen, Sho_Def, Sis_Ecu, rpts, Ecu_Def, Ecu_Pen, Ecu_Mom, Ecu_Cor, Dom = sym_calc(L, EI, AE, AF, F, M, D)\n    HTMLMath27.value = f'${latex(Sho_Cor)}$'\n    HTMLMath16.value = f'${latex(Sho_Mom)}$'\n    HTMLMath28.value = f'${latex(Sho_Pen)}$'\n    HTMLMath17.value = f'${latex(Sho_Def)}$'\n    HTMLMath18.value = f'${latex(Sis_Ecu)}$'\n    HTMLMath19.value = f'${latex(rpts)}$'\n    HTMLMath20.value = f'${latex(Ecu_Def)}$'\n    HTMLMath29.value = f'${latex(Ecu_Pen)}$'\n    HTMLMath21.value = f'${latex(Ecu_Mom)}$'\n    HTMLMath30.value = f'${latex(Ecu_Cor)}$'\n    \n    E  = 207e9\n    I  = (np.pi / 64) * ((BoundedFloatText2.value / 1000) ** 4 - (BoundedFloatText3.value / 1000) ** 4)\n    G   = 80e9\n    Num_Def, Num_Pen, Num_Mom, Num_Cor, MRA, MRB, MRX, NDom = num_calc(L, E, I, G) \n    df1 = pd.DataFrame(MRA)\n    df1_html = df1.to_html(index = False, header = False)\n    df2 = pd.DataFrame(MRB)\n    df2_html = df2.to_html(index = False, header = False)\n    df3 = pd.DataFrame(MRX)\n    df3_html = df3.to_html(index = False, header = False)\n    with Output1:\n        display(HTML(df1_html))\n    with Output2:\n        display(HTML(df2_html))\n    with Output3:\n        display(HTML(df3_html))\n    Output1.clear_output(wait = True)\n    Output2.clear_output(wait = True)\n    Output3.clear_output(wait = True)\n        \n    X = Dom\n    Y = abs(Sim_Def)\n    S1 = np.trapz(y = Y, x = X)\n    S2 = np.trapz(y = Y ** 2, x = X)\n    Sim_Vcr = (30 / np.pi) * np.sqrt(9.81 * abs(S1/ S2))\n    # S1 = abs(sp.integrate(Fun_Def[0], (x, 0, FloatSlider3.value / 1000))) + abs(sp.integrate(Fun_Def[1], (x, FloatSlider3.value / 1000, BoundedFloatText4.value / 1000)))\n    # S2 = abs(sp.integrate(Fun_Def[0] ** 2, (x, 0, FloatSlider3.value / 1000))) + abs(sp.integrate(Fun_Def[1] ** 2, (x, FloatSlider3.value / 1000, BoundedFloatText4.value / 1000)))\n    # Sim_Vcr = (30 / np.pi) * sp.sqrt(9.81 * abs(S1/ S2))\n    X = NDom\n    Y = abs(Num_Def.T[0])\n    S1 = np.trapz(y = Y, x = X)\n    S2 = np.trapz(y = Y ** 2, x = X)\n    Num_Vcr = (30 / np.pi) * np.sqrt(9.81 * abs(S1/ S2))\n    if Checkbox1.value == False:\n        grid1[1, 1].value = str(max(abs(Sim_Def)))\n        grid1[1, 2].value = str(Sim_Vcr)\n        grid1[2, 1].value = str(max(abs(Num_Def.T[0])))\n        grid1[2, 2].value = str(Num_Vcr)\n        grid1[3, 1].value = str(abs(((max(abs(Sim_Def)) - max(abs(Num_Def.T[0]))) / max(abs(Num_Def.T[0]))) * 100))\n        grid1[3, 2].value = str(abs(((Sim_Vcr - Num_Vcr) / Num_Vcr) * 100))\nButton1.on_click(shaft_calc)\n\ndef draw_graph(valor):\n    if Dropdown3.value == 'Cortantes':\n        ylabel = 'Cortantes (N)'\n        if Checkbox1.value == False:\n            YDom = np.repeat(Sim_Cor, 50)\n        else:\n            YDom = Sim_Cor\n        DomY = Num_Cor[range(0, len(Num_Cor), 2)]\n        DomY = np.append(DomY, -Num_Cor[-1])\n    elif Dropdown3.value == 'Momentos':\n        ylabel = 'Momentos (N.m)'\n        YDom = Sim_Mom\n        DomY = Num_Mom[range(0, len(Num_Mom), 2)]\n        DomY = -np.append(DomY, -Num_Mom[-1])\n    elif Dropdown3.value == 'Pendientes':\n        ylabel = 'Pendientes (rad)'\n        YDom = Sim_Pen\n        DomY = Num_Pen.T[0]\n    elif Dropdown3.value == 'Deflexiones':\n        ylabel = 'Deflexiones (mm)'\n        YDom = Sim_Def * 1000\n        DomY = Num_Def.T[0] * 1000\n    Scatter4.x = NDom\n    Scatter4.y = DomY\n    Scatter4.tooltip = bqp.Tooltip(fields = ['x', 'y'], formats = ['.2f', '.2f'])\n    Scatter4.names = None\n    XDom = np.insert(Dom, 0, 0)\n    XDom = np.append(XDom, BoundedFloatText4.value)\n    YDom = np.insert(YDom, 0, 0)\n    YDom = np.append(YDom, 0)\n    DomX = np.insert(NDom, 0, 0)\n    DomX = np.append(DomX, BoundedFloatText4.value)\n    DomY = np.insert(DomY, 0, 0)\n    DomY = np.append(DomY, 0)\n    Lines3.x = XDom\n    Lines3.y = YDom\n    Lines3.tooltip = bqp.Tooltip(fields = ['x', 'y'], formats = ['.2f', '.2f'])\n    Lines4.x = DomX\n    Lines4.y = DomY\n    fig4.axes[1].label = ylabel\n    fig5.axes[1].label = ylabel\nButton2.on_click(draw_graph)",
      "metadata": {
        "jupyter": {
          "source_hidden": true
        },
        "tags": [],
        "trusted": true
      },
      "execution_count": 13,
      "outputs": []
    }
  ]
}